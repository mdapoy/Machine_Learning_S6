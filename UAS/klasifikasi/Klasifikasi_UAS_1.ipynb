{
  "nbformat": 4,
  "nbformat_minor": 0,
  "metadata": {
    "colab": {
      "provenance": [],
      "toc_visible": true,
      "gpuType": "T4"
    },
    "kernelspec": {
      "name": "python3",
      "display_name": "Python 3"
    },
    "language_info": {
      "name": "python"
    },
    "accelerator": "GPU"
  },
  "cells": [
    {
      "cell_type": "markdown",
      "source": [
        "## PENGUMPULAN DAN PEMBERSIHAN DATA"
      ],
      "metadata": {
        "id": "1PHNrnLgasSw"
      }
    },
    {
      "cell_type": "code",
      "execution_count": 2,
      "metadata": {
        "colab": {
          "base_uri": "https://localhost:8080/"
        },
        "id": "RrKfK8F_VoVL",
        "outputId": "c2d8b041-abf3-4913-e341-7f7bfcda800d"
      },
      "outputs": [
        {
          "output_type": "stream",
          "name": "stdout",
          "text": [
            "Time      0\n",
            "V1        0\n",
            "V2        0\n",
            "V3        0\n",
            "V4        0\n",
            "V5        0\n",
            "V6        0\n",
            "V7        0\n",
            "V8        0\n",
            "V9        0\n",
            "V10       0\n",
            "V11       0\n",
            "V12       0\n",
            "V13       0\n",
            "V14       0\n",
            "V15       0\n",
            "V16       0\n",
            "V17       0\n",
            "V18       0\n",
            "V19       0\n",
            "V20       0\n",
            "V21       0\n",
            "V22       1\n",
            "V23       1\n",
            "V24       1\n",
            "V25       1\n",
            "V26       1\n",
            "V27       1\n",
            "V28       1\n",
            "Amount    1\n",
            "Class     1\n",
            "dtype: int64\n",
            "       Time        V1        V2        V3        V4        V5        V6  \\\n",
            "0 -1.600923 -0.591637 -0.177212  1.048974  0.783906 -0.104102  0.285814   \n",
            "1 -1.600923  0.755471  0.043873 -0.324980  0.138479  0.172548 -0.124347   \n",
            "2 -1.600835 -0.590870 -1.003923  0.606537  0.091026 -0.218611  1.293329   \n",
            "3 -1.600835 -0.383877 -0.250559  0.618007 -0.771674  0.123705  0.876731   \n",
            "4 -1.600747 -0.485219  0.442810  0.476386  0.107165 -0.151935  0.009888   \n",
            "\n",
            "         V7        V8        V9  ...       V21       V22       V23       V24  \\\n",
            "0  0.278481  0.054991 -0.106425  ...  0.027336  0.643908 -0.136883  0.090562   \n",
            "1  0.039918  0.045126 -0.592397  ... -0.220479 -0.777712  0.265495 -0.600587   \n",
            "2  0.691965  0.163075 -1.580670  ...  0.345430  1.409919  1.801046 -1.194309   \n",
            "3  0.276990  0.257216 -1.480503  ... -0.080159  0.221128 -0.288603 -2.020570   \n",
            "4  0.543224 -0.212888  0.249847  ...  0.037938  1.451177 -0.188157  0.216870   \n",
            "\n",
            "        V25       V26       V27       V28  Class  Amount  \n",
            "0  0.001414 -0.416416  0.300033 -0.097044    0.0  149.62  \n",
            "1  0.090042  0.189149 -0.055394  0.036564    0.0    2.69  \n",
            "2 -1.045167 -0.320262 -0.171017 -0.241562    0.0  378.66  \n",
            "3  1.191741 -0.479496  0.123405  0.211087    0.0  123.50  \n",
            "4 -0.766115  0.912724  0.514135  0.785053    0.0   69.99  \n",
            "\n",
            "[5 rows x 31 columns]\n"
          ]
        }
      ],
      "source": [
        "import pandas as pd\n",
        "from sklearn.preprocessing import StandardScaler\n",
        "\n",
        "# Memuat data\n",
        "data = pd.read_csv('KlasifikasiUTS (1).csv')\n",
        "\n",
        "# Memeriksa nilai hilang\n",
        "print(data.isnull().sum())\n",
        "\n",
        "# Menangani nilai hilang dengan mengisi dengan median (bisa juga dengan metode lain)\n",
        "data = data.fillna(data.median())\n",
        "\n",
        "# Normalisasi fitur numerik (kecuali target 'Class' dan 'Amount')\n",
        "scaler = StandardScaler()\n",
        "features = data.drop(columns=['Class', 'Amount'])\n",
        "data_scaled = scaler.fit_transform(features)\n",
        "\n",
        "# Menambahkan kembali kolom 'Class' dan 'Amount' yang tidak perlu dinormalisasi\n",
        "data_scaled = pd.DataFrame(data_scaled, columns=features.columns)\n",
        "data_scaled['Class'] = data['Class']\n",
        "data_scaled['Amount'] = data['Amount']\n",
        "\n",
        "print(data_scaled.head())\n"
      ]
    },
    {
      "cell_type": "markdown",
      "source": [
        "## FEATURE ENGINEERING"
      ],
      "metadata": {
        "id": "1wrFT7ROay5K"
      }
    },
    {
      "cell_type": "code",
      "source": [
        "from sklearn.preprocessing import LabelEncoder\n",
        "\n",
        "# Melakukan Label Encoding pada target 'Class' (jika diperlukan)\n",
        "label_encoder = LabelEncoder()\n",
        "data_scaled['Class'] = label_encoder.fit_transform(data_scaled['Class'])\n",
        "\n",
        "# Jika ada fitur kategorikal lainnya, bisa dilakukan One-Hot Encoding\n",
        "# data_scaled = pd.get_dummies(data_scaled, columns=['fitu_kategorikal_1', 'fitur_kategorikal_2'])\n"
      ],
      "metadata": {
        "id": "Ukn8K9VMXMO7"
      },
      "execution_count": 3,
      "outputs": []
    },
    {
      "cell_type": "markdown",
      "source": [
        "## PENGEMBANGAN ARSITEKTUR MLP"
      ],
      "metadata": {
        "id": "VXwkBL79a2eH"
      }
    },
    {
      "cell_type": "markdown",
      "source": [
        "### TENSERFLOW"
      ],
      "metadata": {
        "id": "THE_n0osa879"
      }
    },
    {
      "cell_type": "code",
      "source": [
        "import tensorflow as tf\n",
        "from tensorflow.keras.models import Sequential\n",
        "from tensorflow.keras.layers import Dense, Dropout, BatchNormalization\n",
        "from tensorflow.keras.callbacks import EarlyStopping\n",
        "from tensorflow.keras.optimizers import Adam\n",
        "\n",
        "# Membangun model MLP dengan TensorFlow\n",
        "model_tf = Sequential([\n",
        "    Dense(64, activation='relu', input_dim=data_scaled.shape[1]-2),  # Jumlah fitur input - 2 (untuk 'Class' dan 'Amount')\n",
        "    BatchNormalization(),\n",
        "    Dropout(0.2),\n",
        "    Dense(32, activation='relu'),\n",
        "    BatchNormalization(),\n",
        "    Dropout(0.2),\n",
        "    Dense(16, activation='relu'),\n",
        "    Dense(1, activation='sigmoid')  # Untuk klasifikasi biner, gunakan 'sigmoid'\n",
        "])\n",
        "\n",
        "# Menyusun model dengan optimizer dan loss function\n",
        "model_tf.compile(optimizer=Adam(learning_rate=0.001), loss='binary_crossentropy', metrics=['accuracy'])\n",
        "\n",
        "# Menambahkan early stopping untuk mencegah overfitting\n",
        "early_stopping = EarlyStopping(monitor='val_loss', patience=10, restore_best_weights=True)\n",
        "\n",
        "# Melatih model\n",
        "history = model_tf.fit(data_scaled.drop(columns=['Class', 'Amount']), data_scaled['Class'],\n",
        "                       validation_split=0.2, epochs=100, batch_size=32, callbacks=[early_stopping])\n"
      ],
      "metadata": {
        "colab": {
          "base_uri": "https://localhost:8080/"
        },
        "id": "_8m6I5A1XOg3",
        "outputId": "61b986bf-4b22-4271-9135-29111595afa4"
      },
      "execution_count": 8,
      "outputs": [
        {
          "output_type": "stream",
          "name": "stdout",
          "text": [
            "Epoch 1/100\n"
          ]
        },
        {
          "output_type": "stream",
          "name": "stderr",
          "text": [
            "/usr/local/lib/python3.11/dist-packages/keras/src/layers/core/dense.py:87: UserWarning: Do not pass an `input_shape`/`input_dim` argument to a layer. When using Sequential models, prefer using an `Input(shape)` object as the first layer in the model instead.\n",
            "  super().__init__(activity_regularizer=activity_regularizer, **kwargs)\n"
          ]
        },
        {
          "output_type": "stream",
          "name": "stdout",
          "text": [
            "\u001b[1m597/597\u001b[0m \u001b[32m━━━━━━━━━━━━━━━━━━━━\u001b[0m\u001b[37m\u001b[0m \u001b[1m8s\u001b[0m 8ms/step - accuracy: 0.9390 - loss: 0.1747 - val_accuracy: 0.9992 - val_loss: 0.0050\n",
            "Epoch 2/100\n",
            "\u001b[1m597/597\u001b[0m \u001b[32m━━━━━━━━━━━━━━━━━━━━\u001b[0m\u001b[37m\u001b[0m \u001b[1m2s\u001b[0m 3ms/step - accuracy: 0.9970 - loss: 0.0103 - val_accuracy: 0.9992 - val_loss: 0.0036\n",
            "Epoch 3/100\n",
            "\u001b[1m597/597\u001b[0m \u001b[32m━━━━━━━━━━━━━━━━━━━━\u001b[0m\u001b[37m\u001b[0m \u001b[1m2s\u001b[0m 3ms/step - accuracy: 0.9979 - loss: 0.0072 - val_accuracy: 0.9992 - val_loss: 0.0038\n",
            "Epoch 4/100\n",
            "\u001b[1m597/597\u001b[0m \u001b[32m━━━━━━━━━━━━━━━━━━━━\u001b[0m\u001b[37m\u001b[0m \u001b[1m2s\u001b[0m 4ms/step - accuracy: 0.9971 - loss: 0.0078 - val_accuracy: 0.9992 - val_loss: 0.0033\n",
            "Epoch 5/100\n",
            "\u001b[1m597/597\u001b[0m \u001b[32m━━━━━━━━━━━━━━━━━━━━\u001b[0m\u001b[37m\u001b[0m \u001b[1m3s\u001b[0m 4ms/step - accuracy: 0.9972 - loss: 0.0061 - val_accuracy: 0.9990 - val_loss: 0.0033\n",
            "Epoch 6/100\n",
            "\u001b[1m597/597\u001b[0m \u001b[32m━━━━━━━━━━━━━━━━━━━━\u001b[0m\u001b[37m\u001b[0m \u001b[1m2s\u001b[0m 4ms/step - accuracy: 0.9989 - loss: 0.0038 - val_accuracy: 0.9992 - val_loss: 0.0033\n",
            "Epoch 7/100\n",
            "\u001b[1m597/597\u001b[0m \u001b[32m━━━━━━━━━━━━━━━━━━━━\u001b[0m\u001b[37m\u001b[0m \u001b[1m2s\u001b[0m 3ms/step - accuracy: 0.9980 - loss: 0.0051 - val_accuracy: 0.9992 - val_loss: 0.0030\n",
            "Epoch 8/100\n",
            "\u001b[1m597/597\u001b[0m \u001b[32m━━━━━━━━━━━━━━━━━━━━\u001b[0m\u001b[37m\u001b[0m \u001b[1m2s\u001b[0m 3ms/step - accuracy: 0.9988 - loss: 0.0042 - val_accuracy: 0.9994 - val_loss: 0.0030\n",
            "Epoch 9/100\n",
            "\u001b[1m597/597\u001b[0m \u001b[32m━━━━━━━━━━━━━━━━━━━━\u001b[0m\u001b[37m\u001b[0m \u001b[1m3s\u001b[0m 3ms/step - accuracy: 0.9982 - loss: 0.0040 - val_accuracy: 0.9992 - val_loss: 0.0032\n",
            "Epoch 10/100\n",
            "\u001b[1m597/597\u001b[0m \u001b[32m━━━━━━━━━━━━━━━━━━━━\u001b[0m\u001b[37m\u001b[0m \u001b[1m2s\u001b[0m 3ms/step - accuracy: 0.9987 - loss: 0.0039 - val_accuracy: 0.9992 - val_loss: 0.0028\n",
            "Epoch 11/100\n",
            "\u001b[1m597/597\u001b[0m \u001b[32m━━━━━━━━━━━━━━━━━━━━\u001b[0m\u001b[37m\u001b[0m \u001b[1m3s\u001b[0m 5ms/step - accuracy: 0.9987 - loss: 0.0047 - val_accuracy: 0.9996 - val_loss: 0.0028\n",
            "Epoch 12/100\n",
            "\u001b[1m597/597\u001b[0m \u001b[32m━━━━━━━━━━━━━━━━━━━━\u001b[0m\u001b[37m\u001b[0m \u001b[1m2s\u001b[0m 3ms/step - accuracy: 0.9990 - loss: 0.0042 - val_accuracy: 0.9994 - val_loss: 0.0031\n",
            "Epoch 13/100\n",
            "\u001b[1m597/597\u001b[0m \u001b[32m━━━━━━━━━━━━━━━━━━━━\u001b[0m\u001b[37m\u001b[0m \u001b[1m3s\u001b[0m 3ms/step - accuracy: 0.9990 - loss: 0.0033 - val_accuracy: 0.9996 - val_loss: 0.0030\n",
            "Epoch 14/100\n",
            "\u001b[1m597/597\u001b[0m \u001b[32m━━━━━━━━━━━━━━━━━━━━\u001b[0m\u001b[37m\u001b[0m \u001b[1m3s\u001b[0m 3ms/step - accuracy: 0.9987 - loss: 0.0038 - val_accuracy: 0.9994 - val_loss: 0.0035\n",
            "Epoch 15/100\n",
            "\u001b[1m597/597\u001b[0m \u001b[32m━━━━━━━━━━━━━━━━━━━━\u001b[0m\u001b[37m\u001b[0m \u001b[1m3s\u001b[0m 3ms/step - accuracy: 0.9989 - loss: 0.0032 - val_accuracy: 0.9996 - val_loss: 0.0034\n",
            "Epoch 16/100\n",
            "\u001b[1m597/597\u001b[0m \u001b[32m━━━━━━━━━━━━━━━━━━━━\u001b[0m\u001b[37m\u001b[0m \u001b[1m3s\u001b[0m 5ms/step - accuracy: 0.9994 - loss: 0.0022 - val_accuracy: 0.9996 - val_loss: 0.0036\n",
            "Epoch 17/100\n",
            "\u001b[1m597/597\u001b[0m \u001b[32m━━━━━━━━━━━━━━━━━━━━\u001b[0m\u001b[37m\u001b[0m \u001b[1m4s\u001b[0m 3ms/step - accuracy: 0.9995 - loss: 0.0017 - val_accuracy: 0.9998 - val_loss: 0.0035\n",
            "Epoch 18/100\n",
            "\u001b[1m597/597\u001b[0m \u001b[32m━━━━━━━━━━━━━━━━━━━━\u001b[0m\u001b[37m\u001b[0m \u001b[1m3s\u001b[0m 3ms/step - accuracy: 0.9993 - loss: 0.0023 - val_accuracy: 0.9990 - val_loss: 0.0046\n",
            "Epoch 19/100\n",
            "\u001b[1m597/597\u001b[0m \u001b[32m━━━━━━━━━━━━━━━━━━━━\u001b[0m\u001b[37m\u001b[0m \u001b[1m2s\u001b[0m 3ms/step - accuracy: 0.9988 - loss: 0.0031 - val_accuracy: 0.9994 - val_loss: 0.0040\n",
            "Epoch 20/100\n",
            "\u001b[1m597/597\u001b[0m \u001b[32m━━━━━━━━━━━━━━━━━━━━\u001b[0m\u001b[37m\u001b[0m \u001b[1m3s\u001b[0m 4ms/step - accuracy: 0.9990 - loss: 0.0037 - val_accuracy: 0.9996 - val_loss: 0.0039\n",
            "Epoch 21/100\n",
            "\u001b[1m597/597\u001b[0m \u001b[32m━━━━━━━━━━━━━━━━━━━━\u001b[0m\u001b[37m\u001b[0m \u001b[1m6s\u001b[0m 6ms/step - accuracy: 0.9991 - loss: 0.0031 - val_accuracy: 0.9994 - val_loss: 0.0042\n"
          ]
        }
      ]
    },
    {
      "cell_type": "code",
      "source": [
        "from sklearn.metrics import accuracy_score, precision_score, recall_score, f1_score, confusion_matrix\n",
        "import matplotlib.pyplot as plt\n",
        "import seaborn as sns\n",
        "from sklearn.metrics import roc_auc_score, roc_curve\n",
        "\n",
        "# Prediksi pada data uji\n",
        "y_pred_proba = model_tf.predict(X_test)\n",
        "\n",
        "# Mengubah prediksi probabilitas menjadi kelas biner\n",
        "y_pred = (y_pred_proba > 0.5).astype(int)\n",
        "\n",
        "# Menghitung metrik\n",
        "accuracy = accuracy_score(y_test, y_pred)\n",
        "precision = precision_score(y_test, y_pred)\n",
        "recall = recall_score(y_test, y_pred)\n",
        "f1 = f1_score(y_test, y_pred)\n",
        "\n",
        "print(f'Accuracy: {accuracy:.4f}')\n",
        "print(f'Precision: {precision:.4f}')\n",
        "print(f'Recall: {recall:.4f}')\n",
        "print(f'F1 Score: {f1:.4f}')\n",
        "\n",
        "\n",
        "# Menampilkan Confusion Matrix\n",
        "cm = confusion_matrix(y_test, y_pred)\n",
        "sns.heatmap(cm, annot=True, fmt='d', cmap='Blues', xticklabels=[0,1], yticklabels=[0,1])\n",
        "plt.title('Confusion Matrix')\n",
        "plt.xlabel('Predicted')\n",
        "plt.ylabel('True')\n",
        "plt.show()\n",
        "\n",
        "# ROC Curve\n",
        "fpr, tpr, _ = roc_curve(y_test, y_pred_proba) # Use predicted probabilities for ROC curve\n",
        "plt.plot(fpr, tpr, label='ROC curve')\n",
        "plt.plot([0, 1], [0, 1], linestyle='--')\n",
        "plt.xlabel('False Positive Rate')\n",
        "plt.ylabel('True Positive Rate')\n",
        "plt.title('ROC Curve')\n",
        "plt.show()\n",
        "\n",
        "# AUC\n",
        "auc = roc_auc_score(y_test, y_pred_proba) # Use predicted probabilities for AUC\n",
        "print(f'AUC: {auc:.4f}')"
      ],
      "metadata": {
        "colab": {
          "base_uri": "https://localhost:8080/",
          "height": 1000
        },
        "id": "GSJmWDTXYgRQ",
        "outputId": "9cbe7ab3-6d00-4351-a634-334a8bf3ad8f"
      },
      "execution_count": 9,
      "outputs": [
        {
          "output_type": "stream",
          "name": "stdout",
          "text": [
            "\u001b[1m150/150\u001b[0m \u001b[32m━━━━━━━━━━━━━━━━━━━━\u001b[0m\u001b[37m\u001b[0m \u001b[1m1s\u001b[0m 3ms/step\n",
            "Accuracy: 0.9996\n",
            "Precision: 1.0000\n",
            "Recall: 0.8824\n",
            "F1 Score: 0.9375\n"
          ]
        },
        {
          "output_type": "display_data",
          "data": {
            "text/plain": [
              "<Figure size 640x480 with 2 Axes>"
            ],
            "image/png": "[encoded data removed]"
          },
          "metadata": {}
        },
        {
          "output_type": "display_data",
          "data": {
            "text/plain": [
              "<Figure size 640x480 with 1 Axes>"
            ],
            "image/png": "[encoded data removed]"
          },
          "metadata": {}
        },
        {
          "output_type": "stream",
          "name": "stdout",
          "text": [
            "AUC: 1.0000\n"
          ]
        }
      ]
    },
    {
      "cell_type": "markdown",
      "source": [
        "### PYTORCH"
      ],
      "metadata": {
        "id": "z0T9DXSCbAmW"
      }
    },
    {
      "cell_type": "code",
      "source": [
        "import torch\n",
        "import torch.nn as nn\n",
        "import torch.optim as optim\n",
        "from sklearn.model_selection import train_test_split\n",
        "from sklearn.preprocessing import StandardScaler\n",
        "\n",
        "# Memisahkan fitur dan target\n",
        "X = data_scaled.drop(columns=['Class', 'Amount']).values\n",
        "y = data_scaled['Class'].values\n",
        "\n",
        "# Mengubah ke tensor\n",
        "X_tensor = torch.tensor(X, dtype=torch.float32)\n",
        "y_tensor = torch.tensor(y, dtype=torch.long)\n",
        "\n",
        "# Membagi data ke training dan testing\n",
        "X_train, X_test, y_train, y_test = train_test_split(X_tensor, y_tensor, test_size=0.2, random_state=42)\n",
        "\n",
        "# Membuat model MLP di PyTorch\n",
        "class MLP(nn.Module):\n",
        "    def __init__(self):\n",
        "        super(MLP, self).__init__()\n",
        "        self.fc1 = nn.Linear(X.shape[1], 64)\n",
        "        self.fc2 = nn.Linear(64, 32)\n",
        "        self.fc3 = nn.Linear(32, 16)\n",
        "        self.fc4 = nn.Linear(16, 2)  # 2 kelas untuk klasifikasi biner\n",
        "\n",
        "    def forward(self, x):\n",
        "        x = torch.relu(self.fc1(x))\n",
        "        x = torch.relu(self.fc2(x))\n",
        "        x = torch.relu(self.fc3(x))\n",
        "        x = self.fc4(x)\n",
        "        return x\n",
        "\n",
        "# Inisialisasi model, loss, dan optimizer\n",
        "model_pytorch = MLP()\n",
        "criterion = nn.CrossEntropyLoss()\n",
        "optimizer = optim.Adam(model_pytorch.parameters(), lr=0.001)\n",
        "\n",
        "# Training loop\n",
        "for epoch in range(100):  # Jumlah epoch\n",
        "    model_pytorch.train()\n",
        "    optimizer.zero_grad()\n",
        "\n",
        "    # Forward pass\n",
        "    outputs = model_pytorch(X_train)\n",
        "    loss = criterion(outputs, y_train)\n",
        "\n",
        "    # Backward pass dan optimisasi\n",
        "    loss.backward()\n",
        "    optimizer.step()\n",
        "\n",
        "    if epoch % 10 == 0:\n",
        "        print(f'Epoch [{epoch+1}/100], Loss: {loss.item():.4f}')\n"
      ],
      "metadata": {
        "colab": {
          "base_uri": "https://localhost:8080/"
        },
        "id": "DZFPWU4UYBR5",
        "outputId": "0ed3fb51-5c85-4dce-e9c9-cc8873f9cee0"
      },
      "execution_count": 5,
      "outputs": [
        {
          "output_type": "stream",
          "name": "stdout",
          "text": [
            "Epoch [1/100], Loss: 0.6357\n",
            "Epoch [11/100], Loss: 0.5329\n",
            "Epoch [21/100], Loss: 0.4151\n",
            "Epoch [31/100], Loss: 0.2681\n",
            "Epoch [41/100], Loss: 0.1315\n",
            "Epoch [51/100], Loss: 0.0542\n",
            "Epoch [61/100], Loss: 0.0243\n",
            "Epoch [71/100], Loss: 0.0151\n",
            "Epoch [81/100], Loss: 0.0116\n",
            "Epoch [91/100], Loss: 0.0099\n"
          ]
        }
      ]
    },
    {
      "cell_type": "code",
      "source": [
        "from sklearn.metrics import accuracy_score, precision_score, recall_score, f1_score, confusion_matrix\n",
        "import matplotlib.pyplot as plt\n",
        "import seaborn as sns\n",
        "from sklearn.metrics import roc_auc_score, roc_curve\n",
        "\n",
        "# Prediksi pada data uji\n",
        "y_pred_proba = model_tf.predict(X_test)\n",
        "\n",
        "# Mengubah prediksi probabilitas menjadi kelas biner\n",
        "y_pred = (y_pred_proba > 0.5).astype(int)\n",
        "\n",
        "# Menghitung metrik\n",
        "accuracy = accuracy_score(y_test, y_pred)\n",
        "precision = precision_score(y_test, y_pred)\n",
        "recall = recall_score(y_test, y_pred)\n",
        "f1 = f1_score(y_test, y_pred)\n",
        "\n",
        "print(f'Accuracy: {accuracy:.4f}')\n",
        "print(f'Precision: {precision:.4f}')\n",
        "print(f'Recall: {recall:.4f}')\n",
        "print(f'F1 Score: {f1:.4f}')\n",
        "\n",
        "\n",
        "# Menampilkan Confusion Matrix\n",
        "cm = confusion_matrix(y_test, y_pred)\n",
        "sns.heatmap(cm, annot=True, fmt='d', cmap='Blues', xticklabels=[0,1], yticklabels=[0,1])\n",
        "plt.title('Confusion Matrix')\n",
        "plt.xlabel('Predicted')\n",
        "plt.ylabel('True')\n",
        "plt.show()\n",
        "\n",
        "# ROC Curve\n",
        "fpr, tpr, _ = roc_curve(y_test, y_pred_proba) # Use predicted probabilities for ROC curve\n",
        "plt.plot(fpr, tpr, label='ROC curve')\n",
        "plt.plot([0, 1], [0, 1], linestyle='--')\n",
        "plt.xlabel('False Positive Rate')\n",
        "plt.ylabel('True Positive Rate')\n",
        "plt.title('ROC Curve')\n",
        "plt.show()\n",
        "\n",
        "# AUC\n",
        "auc = roc_auc_score(y_test, y_pred_proba) # Use predicted probabilities for AUC\n",
        "print(f'AUC: {auc:.4f}')"
      ],
      "metadata": {
        "colab": {
          "base_uri": "https://localhost:8080/",
          "height": 1000
        },
        "id": "icm9TF_UYKk3",
        "outputId": "20e605cc-2185-4a8d-d57f-49128fe432ee"
      },
      "execution_count": 7,
      "outputs": [
        {
          "output_type": "stream",
          "name": "stdout",
          "text": [
            "\u001b[1m150/150\u001b[0m \u001b[32m━━━━━━━━━━━━━━━━━━━━\u001b[0m\u001b[37m\u001b[0m \u001b[1m1s\u001b[0m 3ms/step\n",
            "Accuracy: 0.9990\n",
            "Precision: 0.8333\n",
            "Recall: 0.8824\n",
            "F1 Score: 0.8571\n"
          ]
        },
        {
          "output_type": "display_data",
          "data": {
            "text/plain": [
              "<Figure size 640x480 with 2 Axes>"
            ],
            "image/png": "[encoded data removed]"
          },
          "metadata": {}
        },
        {
          "output_type": "display_data",
          "data": {
            "text/plain": [
              "<Figure size 640x480 with 1 Axes>"
            ],
            "image/png": "[encoded data removed]"
          },
          "metadata": {}
        },
        {
          "output_type": "stream",
          "name": "stdout",
          "text": [
            "AUC: 0.9999\n"
          ]
        }
      ]
    },
    {
      "cell_type": "markdown",
      "source": [
        "## ANALISIS"
      ],
      "metadata": {
        "id": "NsD5hY-AbDmP"
      }
    },
    {
      "cell_type": "markdown",
      "source": [
        "### Perbandingan Model PyTorch dan TensorFlow"
      ],
      "metadata": {
        "id": "kQOg3SE5bE3S"
      }
    },
    {
      "cell_type": "markdown",
      "source": [
        "Untuk membandingkan kedua model (PyTorch dan TensorFlow), kita dapat melihat beberapa metrik yang ditampilkan dalam hasil seperti Akurasi, Precision, Recall, F1 Score, serta visualisasi dari Confusion Matrix dan ROC Curve."
      ],
      "metadata": {
        "id": "vTGxc72Dbzib"
      }
    },
    {
      "cell_type": "markdown",
      "source": [
        "### Penjelasan Visualisasi:"
      ],
      "metadata": {
        "id": "phNKJJCxb0d2"
      }
    },
    {
      "cell_type": "markdown",
      "source": [
        "Confusion Matrix:\n",
        "- PyTorch (Gambar pertama):\n",
        "  - Prediksi sangat akurat pada kelas 0, dengan hanya 3 kesalahan (False Positives).\n",
        "  - Namun, untuk kelas 1, ada 2 kesalahan (False Negatives) dan 15 prediksi yang benar (True Positives).\n",
        "\n",
        "- TensorFlow (Gambar kedua):\n",
        "  - Prediksi sangat baik untuk kelas 0, dengan tidak ada kesalahan (0 False Positives).\n",
        "  - Kelas 1 juga memiliki sedikit kesalahan (2 False Negatives, 15 True Positives).\n",
        "\n",
        "ROC Curve:\n",
        "- Kedua model menunjukkan kurva ROC yang baik, namun TensorFlow memiliki kurva yang lebih tajam menuju titik (1,1), menunjukkan performa yang lebih kuat di hampir semua threshold. Ini berarti TensorFlow lebih unggul dalam membedakan kelas positif dan negatif pada semua tingkat probabilitas yang berbeda.\n",
        "\n",
        "Metrik:\n",
        "- Akurasi pada kedua model sangat tinggi (di atas 99%), menunjukkan bahwa kedua model ini secara umum sangat baik dalam klasifikasi.\n",
        "- Precision:\n",
        "  - PyTorch: 0.8333, yang berarti model ini menghasilkan 83.33% prediksi positif yang benar.\n",
        "  - TensorFlow: 1.0000, yang berarti semua prediksi positif adalah benar, yang sangat bagus. Ini menunjukkan model TensorFlow sangat tepat dalam memprediksi kelas positif.\n",
        "- Recall:\n",
        "  - Kedua model memiliki Recall yang hampir sama (0.8824), yang menunjukkan bahwa keduanya cukup baik dalam menangkap semua kasus positif, meskipun TensorFlow sedikit lebih unggul dalam Precision.\n",
        "- F1 Score:\n",
        "  - PyTorch: 0.8571\n",
        "  - TensorFlow: 0.9375\n",
        "  - TensorFlow memiliki F1 Score yang lebih tinggi, yang berarti model ini lebih seimbang antara Precision dan Recall, memberikan performa yang lebih baik dalam hal keseimbangan.\n",
        "\n",
        "Kesimpulan:\n",
        "- TensorFlow lebih baik dalam hal Precision (100% akurat dalam prediksi positif), dan memiliki F1 Score yang lebih tinggi, menunjukkan bahwa secara keseluruhan model TensorFlow lebih baik dalam hal keseimbangan antara precision dan recall.\n",
        "- PyTorch memiliki performa yang baik, tetapi sedikit lebih buruk dalam hal precision dan F1 Score dibandingkan TensorFlow."
      ],
      "metadata": {
        "id": "csSi_TvPb2ne"
      }
    }
  ]
}