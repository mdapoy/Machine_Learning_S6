{
  "nbformat": 4,
  "nbformat_minor": 0,
  "metadata": {
    "colab": {
      "provenance": [],
      "gpuType": "T4"
    },
    "kernelspec": {
      "name": "python3",
      "display_name": "Python 3"
    },
    "language_info": {
      "name": "python"
    },
    "accelerator": "GPU"
  },
  "cells": [
    {
      "cell_type": "code",
      "execution_count": 1,
      "metadata": {
        "colab": {
          "base_uri": "https://localhost:8080/"
        },
        "id": "Rgzjm-6eMSHd",
        "outputId": "f1f11ac3-0e9d-4506-c173-464d410393ff"
      },
      "outputs": [
        {
          "output_type": "stream",
          "name": "stdout",
          "text": [
            "Requirement already satisfied: gdown in /usr/local/lib/python3.11/dist-packages (5.2.0)\n",
            "Requirement already satisfied: beautifulsoup4 in /usr/local/lib/python3.11/dist-packages (from gdown) (4.13.4)\n",
            "Requirement already satisfied: filelock in /usr/local/lib/python3.11/dist-packages (from gdown) (3.18.0)\n",
            "Requirement already satisfied: requests[socks] in /usr/local/lib/python3.11/dist-packages (from gdown) (2.32.3)\n",
            "Requirement already satisfied: tqdm in /usr/local/lib/python3.11/dist-packages (from gdown) (4.67.1)\n",
            "Requirement already satisfied: soupsieve>1.2 in /usr/local/lib/python3.11/dist-packages (from beautifulsoup4->gdown) (2.7)\n",
            "Requirement already satisfied: typing-extensions>=4.0.0 in /usr/local/lib/python3.11/dist-packages (from beautifulsoup4->gdown) (4.14.0)\n",
            "Requirement already satisfied: charset-normalizer<4,>=2 in /usr/local/lib/python3.11/dist-packages (from requests[socks]->gdown) (3.4.2)\n",
            "Requirement already satisfied: idna<4,>=2.5 in /usr/local/lib/python3.11/dist-packages (from requests[socks]->gdown) (3.10)\n",
            "Requirement already satisfied: urllib3<3,>=1.21.1 in /usr/local/lib/python3.11/dist-packages (from requests[socks]->gdown) (2.4.0)\n",
            "Requirement already satisfied: certifi>=2017.4.17 in /usr/local/lib/python3.11/dist-packages (from requests[socks]->gdown) (2025.6.15)\n",
            "Requirement already satisfied: PySocks!=1.5.7,>=1.5.6 in /usr/local/lib/python3.11/dist-packages (from requests[socks]->gdown) (1.7.1)\n"
          ]
        }
      ],
      "source": [
        "!pip install -U gdown"
      ]
    },
    {
      "cell_type": "code",
      "source": [
        "!gdown --fuzzy https://drive.google.com/file/d/1-r4LHN_PaRVBROogfXF3VXWTWIyUoSLs/view?usp=sharing\n",
        "!unzip -q FishImgDataset-20250613T014653Z-1-001.zip -d /content/"
      ],
      "metadata": {
        "colab": {
          "base_uri": "https://localhost:8080/"
        },
        "id": "kzM1gadQMf7H",
        "outputId": "bc7db0ff-7f0b-45d2-e5e0-78957b418171"
      },
      "execution_count": 2,
      "outputs": [
        {
          "output_type": "stream",
          "name": "stdout",
          "text": [
            "Downloading...\n",
            "From (original): https://drive.google.com/uc?id=1-r4LHN_PaRVBROogfXF3VXWTWIyUoSLs\n",
            "From (redirected): https://drive.google.com/uc?id=1-r4LHN_PaRVBROogfXF3VXWTWIyUoSLs&confirm=t&uuid=3eb3e43a-45cc-48b1-bd4b-dba40aed527b\n",
            "To: /content/FishImgDataset-20250613T014653Z-1-001.zip\n",
            "100% 1.72G/1.72G [00:21<00:00, 79.4MB/s]\n"
          ]
        }
      ]
    },
    {
      "cell_type": "markdown",
      "source": [
        "# IMPORT"
      ],
      "metadata": {
        "id": "h3kyZfpRpHI-"
      }
    },
    {
      "cell_type": "code",
      "source": [
        "import os\n",
        "import zipfile\n",
        "import tensorflow as tf\n",
        "from tensorflow.keras.models import Sequential\n",
        "from tensorflow.keras.layers import Conv2D, MaxPooling2D, Flatten, Dense, Dropout, BatchNormalization\n",
        "from tensorflow.keras.preprocessing.image import ImageDataGenerator\n",
        "from tensorflow.keras.callbacks import EarlyStopping, ReduceLROnPlateau\n",
        "from tensorflow.keras import regularizers\n",
        "import matplotlib.pyplot as plt\n",
        "import numpy as np\n",
        "from sklearn.metrics import classification_report, confusion_matrix, roc_curve, auc\n",
        "import seaborn as sns\n",
        "from pathlib import Path\n"
      ],
      "metadata": {
        "id": "RkArHTzfpIiY"
      },
      "execution_count": 1,
      "outputs": []
    },
    {
      "cell_type": "markdown",
      "source": [
        "# LOAD DATA"
      ],
      "metadata": {
        "id": "T6zUkHSGMvKt"
      }
    },
    {
      "cell_type": "code",
      "source": [
        "# from pathlib import Path\n",
        "\n",
        "# # Gunakan Pathlib (lebih aman & fleksibel)\n",
        "# base_dir = Path('/content/FishImgDataset')\n",
        "# train_dir = base_dir / 'train'\n",
        "# val_dir = base_dir / 'val'\n",
        "# test_dir = base_dir / 'test'\n",
        "\n",
        "# print(\"Train directory:\", train_dir)\n",
        "# print(\"Validation directory:\", val_dir)\n",
        "# print(\"Test directory:\", test_dir)"
      ],
      "metadata": {
        "colab": {
          "base_uri": "https://localhost:8080/"
        },
        "id": "4IvPhU8yMwEU",
        "outputId": "a93077e7-9e89-4043-bef1-5584e2b45abf"
      },
      "execution_count": 3,
      "outputs": [
        {
          "output_type": "stream",
          "name": "stdout",
          "text": [
            "Train directory: /content/FishImgDataset/train\n",
            "Validation directory: /content/FishImgDataset/val\n",
            "Test directory: /content/FishImgDataset/test\n"
          ]
        }
      ]
    },
    {
      "cell_type": "code",
      "source": [
        "# --- 1. PERSIAPAN DATA ---\n",
        "# Perintah untuk mengunduh dataset dari Google Drive (membutuhkan gdown)\n",
        "# Pastikan Anda sudah menginstal gdown dengan `pip install gdown`\n",
        "print(\"Mempersiapkan dataset...\")\n",
        "os.system(\"gdown --id 1-r4LHN_PaRVBROogfXF3VXWTWIyUoSLs -O FishImgDataset.zip\")\n",
        "\n",
        "# Ekstrak file zip ke direktori tujuan\n",
        "with zipfile.ZipFile(\"FishImgDataset.zip\", 'r') as zip_ref:\n",
        "    zip_ref.extractall(\"/content/dataset\")\n",
        "print(\"Dataset berhasil diekstrak.\")\n",
        "\n",
        "# Tentukan path direktori\n",
        "base_dir = Path('/content/dataset/FishImgDataset')\n",
        "train_dir = base_dir / 'train'\n",
        "val_dir = base_dir / 'val'\n",
        "test_dir = base_dir / 'test'"
      ],
      "metadata": {
        "colab": {
          "base_uri": "https://localhost:8080/"
        },
        "id": "EzITKBjxpRd2",
        "outputId": "60c2f78f-ca17-4b94-dc38-ab39fd15e264"
      },
      "execution_count": 2,
      "outputs": [
        {
          "output_type": "stream",
          "name": "stdout",
          "text": [
            "Mempersiapkan dataset...\n",
            "Dataset berhasil diekstrak.\n"
          ]
        }
      ]
    },
    {
      "cell_type": "markdown",
      "source": [
        "# PREPROCESSING & AUGMENTASI DATA"
      ],
      "metadata": {
        "id": "54oBmUkVpfuf"
      }
    },
    {
      "cell_type": "code",
      "source": [
        "# --- 2. PREPROCESSING & AUGMENTASI DATA ---\n",
        "print(\"Membuat data generator...\")\n",
        "# Parameter\n",
        "IMG_HEIGHT = 150\n",
        "IMG_WIDTH = 150\n",
        "BATCH_SIZE = 32\n",
        "\n",
        "# Augmentasi untuk data training untuk meningkatkan generalisasi model\n",
        "train_datagen = ImageDataGenerator(\n",
        "    rescale=1./255,\n",
        "    rotation_range=40,\n",
        "    width_shift_range=0.2,\n",
        "    height_shift_range=0.2,\n",
        "    shear_range=0.2,\n",
        "    zoom_range=0.2,\n",
        "    horizontal_flip=True,\n",
        "    fill_mode='nearest'\n",
        ")\n",
        "\n",
        "# Untuk data validasi dan tes, hanya lakukan rescale\n",
        "val_test_datagen = ImageDataGenerator(rescale=1./255)\n",
        "\n",
        "train_generator = train_datagen.flow_from_directory(\n",
        "    train_dir,\n",
        "    target_size=(IMG_HEIGHT, IMG_WIDTH),\n",
        "    batch_size=BATCH_SIZE,\n",
        "    class_mode='categorical'\n",
        ")\n",
        "\n",
        "validation_generator = val_test_datagen.flow_from_directory(\n",
        "    val_dir,\n",
        "    target_size=(IMG_HEIGHT, IMG_WIDTH),\n",
        "    batch_size=BATCH_SIZE,\n",
        "    class_mode='categorical'\n",
        ")\n",
        "\n",
        "# Dapatkan jumlah kelas dari generator\n",
        "NUM_CLASSES = len(train_generator.class_indices)"
      ],
      "metadata": {
        "colab": {
          "base_uri": "https://localhost:8080/"
        },
        "id": "P_Jq0_TxpeN6",
        "outputId": "5a0147b8-3135-4e1a-a76d-f364f88dcd24"
      },
      "execution_count": 3,
      "outputs": [
        {
          "output_type": "stream",
          "name": "stdout",
          "text": [
            "Membuat data generator...\n",
            "Found 8801 images belonging to 31 classes.\n",
            "Found 2751 images belonging to 31 classes.\n"
          ]
        }
      ]
    },
    {
      "cell_type": "markdown",
      "source": [
        "# CREATING CNN MODEL ARCHITECTURE"
      ],
      "metadata": {
        "id": "s_rvXH-wptFt"
      }
    },
    {
      "cell_type": "code",
      "source": [
        "# --- 3. MEMBANGUN ARSITEKTUR MODEL CNN ---\n",
        "print(\"Membangun model CNN...\")\n",
        "model = Sequential([\n",
        "    # Layer Konvolusi 1\n",
        "    Conv2D(32, (3, 3), activation='relu', input_shape=(IMG_HEIGHT, IMG_WIDTH, 3),\n",
        "           kernel_regularizer=regularizers.l2(0.001)),\n",
        "    BatchNormalization(),\n",
        "    MaxPooling2D(2, 2),\n",
        "\n",
        "    # Layer Konvolusi 2\n",
        "    Conv2D(64, (3, 3), activation='relu', kernel_regularizer=regularizers.l2(0.001)),\n",
        "    BatchNormalization(),\n",
        "    MaxPooling2D(2, 2),\n",
        "\n",
        "    # Layer Konvolusi 3\n",
        "    Conv2D(128, (3, 3), activation='relu', kernel_regularizer=regularizers.l2(0.001)),\n",
        "    BatchNormalization(),\n",
        "    MaxPooling2D(2, 2),\n",
        "\n",
        "    # Flattening\n",
        "    Flatten(),\n",
        "\n",
        "    # Dense Layer\n",
        "    Dense(512, activation='relu', kernel_regularizer=regularizers.l2(0.001)),\n",
        "    BatchNormalization(),\n",
        "    Dropout(0.5),\n",
        "\n",
        "    # Output Layer\n",
        "    Dense(NUM_CLASSES, activation='softmax')\n",
        "])"
      ],
      "metadata": {
        "colab": {
          "base_uri": "https://localhost:8080/"
        },
        "id": "FMV2FNoNqB2o",
        "outputId": "0a4b7e48-d5b9-4b16-a63c-c3ed061ac947"
      },
      "execution_count": 4,
      "outputs": [
        {
          "output_type": "stream",
          "name": "stdout",
          "text": [
            "Membangun model CNN...\n"
          ]
        },
        {
          "output_type": "stream",
          "name": "stderr",
          "text": [
            "/usr/local/lib/python3.11/dist-packages/keras/src/layers/convolutional/base_conv.py:107: UserWarning: Do not pass an `input_shape`/`input_dim` argument to a layer. When using Sequential models, prefer using an `Input(shape)` object as the first layer in the model instead.\n",
            "  super().__init__(activity_regularizer=activity_regularizer, **kwargs)\n"
          ]
        }
      ]
    },
    {
      "cell_type": "markdown",
      "source": [
        "# COMPILATION & TRAINING MODEL"
      ],
      "metadata": {
        "id": "Q7ZnZpoxqDcv"
      }
    },
    {
      "cell_type": "code",
      "source": [
        "# --- 4. KOMPILASI DAN PELATIHAN MODEL ---\n",
        "print(\"Melakukan kompilasi model...\")\n",
        "model.compile(optimizer='adam',\n",
        "              loss='categorical_crossentropy',\n",
        "              metrics=['accuracy'])\n",
        "\n",
        "model.summary()\n",
        "\n",
        "# Callbacks untuk mengoptimalkan pelatihan\n",
        "early_stopping = EarlyStopping(monitor='val_loss', patience=10, restore_best_weights=True)\n",
        "reduce_lr = ReduceLROnPlateau(monitor='val_loss', factor=0.2, patience=5, min_lr=0.00001)\n",
        "\n",
        "print(\"Memulai pelatihan model...\")\n",
        "history = model.fit(\n",
        "    train_generator,\n",
        "    epochs=100, # Atur epoch tinggi, EarlyStopping akan berhenti jika sudah optimal\n",
        "    validation_data=validation_generator,\n",
        "    callbacks=[early_stopping, reduce_lr]\n",
        ")\n",
        "print(\"Pelatihan model selesai.\")"
      ],
      "metadata": {
        "colab": {
          "base_uri": "https://localhost:8080/",
          "height": 1000
        },
        "id": "_HkipwSxqJg4",
        "outputId": "99ad92c7-4928-46f8-db2c-4b815a4fe19b"
      },
      "execution_count": 5,
      "outputs": [
        {
          "output_type": "stream",
          "name": "stdout",
          "text": [
            "Melakukan kompilasi model...\n"
          ]
        },
        {
          "output_type": "display_data",
          "data": {
            "text/plain": [
              "\u001b[1mModel: \"sequential\"\u001b[0m\n"
            ],
            "text/html": [
              "<pre style=\"white-space:pre;overflow-x:auto;line-height:normal;font-family:Menlo,'DejaVu Sans Mono',consolas,'Courier New',monospace\"><span style=\"font-weight: bold\">Model: \"sequential\"</span>\n",
              "</pre>\n"
            ]
          },
          "metadata": {}
        },
        {
          "output_type": "display_data",
          "data": {
            "text/plain": [
              "┏━━━━━━━━━━━━━━━━━━━━━━━━━━━━━━━━━┳━━━━━━━━━━━━━━━━━━━━━━━━┳━━━━━━━━━━━━━━━┓\n",
              "┃\u001b[1m \u001b[0m\u001b[1mLayer (type)                   \u001b[0m\u001b[1m \u001b[0m┃\u001b[1m \u001b[0m\u001b[1mOutput Shape          \u001b[0m\u001b[1m \u001b[0m┃\u001b[1m \u001b[0m\u001b[1m      Param #\u001b[0m\u001b[1m \u001b[0m┃\n",
              "┡━━━━━━━━━━━━━━━━━━━━━━━━━━━━━━━━━╇━━━━━━━━━━━━━━━━━━━━━━━━╇━━━━━━━━━━━━━━━┩\n",
              "│ conv2d (\u001b[38;5;33mConv2D\u001b[0m)                 │ (\u001b[38;5;45mNone\u001b[0m, \u001b[38;5;34m148\u001b[0m, \u001b[38;5;34m148\u001b[0m, \u001b[38;5;34m32\u001b[0m)   │           \u001b[38;5;34m896\u001b[0m │\n",
              "├─────────────────────────────────┼────────────────────────┼───────────────┤\n",
              "│ batch_normalization             │ (\u001b[38;5;45mNone\u001b[0m, \u001b[38;5;34m148\u001b[0m, \u001b[38;5;34m148\u001b[0m, \u001b[38;5;34m32\u001b[0m)   │           \u001b[38;5;34m128\u001b[0m │\n",
              "│ (\u001b[38;5;33mBatchNormalization\u001b[0m)            │                        │               │\n",
              "├─────────────────────────────────┼────────────────────────┼───────────────┤\n",
              "│ max_pooling2d (\u001b[38;5;33mMaxPooling2D\u001b[0m)    │ (\u001b[38;5;45mNone\u001b[0m, \u001b[38;5;34m74\u001b[0m, \u001b[38;5;34m74\u001b[0m, \u001b[38;5;34m32\u001b[0m)     │             \u001b[38;5;34m0\u001b[0m │\n",
              "├─────────────────────────────────┼────────────────────────┼───────────────┤\n",
              "│ conv2d_1 (\u001b[38;5;33mConv2D\u001b[0m)               │ (\u001b[38;5;45mNone\u001b[0m, \u001b[38;5;34m72\u001b[0m, \u001b[38;5;34m72\u001b[0m, \u001b[38;5;34m64\u001b[0m)     │        \u001b[38;5;34m18,496\u001b[0m │\n",
              "├─────────────────────────────────┼────────────────────────┼───────────────┤\n",
              "│ batch_normalization_1           │ (\u001b[38;5;45mNone\u001b[0m, \u001b[38;5;34m72\u001b[0m, \u001b[38;5;34m72\u001b[0m, \u001b[38;5;34m64\u001b[0m)     │           \u001b[38;5;34m256\u001b[0m │\n",
              "│ (\u001b[38;5;33mBatchNormalization\u001b[0m)            │                        │               │\n",
              "├─────────────────────────────────┼────────────────────────┼───────────────┤\n",
              "│ max_pooling2d_1 (\u001b[38;5;33mMaxPooling2D\u001b[0m)  │ (\u001b[38;5;45mNone\u001b[0m, \u001b[38;5;34m36\u001b[0m, \u001b[38;5;34m36\u001b[0m, \u001b[38;5;34m64\u001b[0m)     │             \u001b[38;5;34m0\u001b[0m │\n",
              "├─────────────────────────────────┼────────────────────────┼───────────────┤\n",
              "│ conv2d_2 (\u001b[38;5;33mConv2D\u001b[0m)               │ (\u001b[38;5;45mNone\u001b[0m, \u001b[38;5;34m34\u001b[0m, \u001b[38;5;34m34\u001b[0m, \u001b[38;5;34m128\u001b[0m)    │        \u001b[38;5;34m73,856\u001b[0m │\n",
              "├─────────────────────────────────┼────────────────────────┼───────────────┤\n",
              "│ batch_normalization_2           │ (\u001b[38;5;45mNone\u001b[0m, \u001b[38;5;34m34\u001b[0m, \u001b[38;5;34m34\u001b[0m, \u001b[38;5;34m128\u001b[0m)    │           \u001b[38;5;34m512\u001b[0m │\n",
              "│ (\u001b[38;5;33mBatchNormalization\u001b[0m)            │                        │               │\n",
              "├─────────────────────────────────┼────────────────────────┼───────────────┤\n",
              "│ max_pooling2d_2 (\u001b[38;5;33mMaxPooling2D\u001b[0m)  │ (\u001b[38;5;45mNone\u001b[0m, \u001b[38;5;34m17\u001b[0m, \u001b[38;5;34m17\u001b[0m, \u001b[38;5;34m128\u001b[0m)    │             \u001b[38;5;34m0\u001b[0m │\n",
              "├─────────────────────────────────┼────────────────────────┼───────────────┤\n",
              "│ flatten (\u001b[38;5;33mFlatten\u001b[0m)               │ (\u001b[38;5;45mNone\u001b[0m, \u001b[38;5;34m36992\u001b[0m)          │             \u001b[38;5;34m0\u001b[0m │\n",
              "├─────────────────────────────────┼────────────────────────┼───────────────┤\n",
              "│ dense (\u001b[38;5;33mDense\u001b[0m)                   │ (\u001b[38;5;45mNone\u001b[0m, \u001b[38;5;34m512\u001b[0m)            │    \u001b[38;5;34m18,940,416\u001b[0m │\n",
              "├─────────────────────────────────┼────────────────────────┼───────────────┤\n",
              "│ batch_normalization_3           │ (\u001b[38;5;45mNone\u001b[0m, \u001b[38;5;34m512\u001b[0m)            │         \u001b[38;5;34m2,048\u001b[0m │\n",
              "│ (\u001b[38;5;33mBatchNormalization\u001b[0m)            │                        │               │\n",
              "├─────────────────────────────────┼────────────────────────┼───────────────┤\n",
              "│ dropout (\u001b[38;5;33mDropout\u001b[0m)               │ (\u001b[38;5;45mNone\u001b[0m, \u001b[38;5;34m512\u001b[0m)            │             \u001b[38;5;34m0\u001b[0m │\n",
              "├─────────────────────────────────┼────────────────────────┼───────────────┤\n",
              "│ dense_1 (\u001b[38;5;33mDense\u001b[0m)                 │ (\u001b[38;5;45mNone\u001b[0m, \u001b[38;5;34m31\u001b[0m)             │        \u001b[38;5;34m15,903\u001b[0m │\n",
              "└─────────────────────────────────┴────────────────────────┴───────────────┘\n"
            ],
            "text/html": [
              "<pre style=\"white-space:pre;overflow-x:auto;line-height:normal;font-family:Menlo,'DejaVu Sans Mono',consolas,'Courier New',monospace\">┏━━━━━━━━━━━━━━━━━━━━━━━━━━━━━━━━━┳━━━━━━━━━━━━━━━━━━━━━━━━┳━━━━━━━━━━━━━━━┓\n",
              "┃<span style=\"font-weight: bold\"> Layer (type)                    </span>┃<span style=\"font-weight: bold\"> Output Shape           </span>┃<span style=\"font-weight: bold\">       Param # </span>┃\n",
              "┡━━━━━━━━━━━━━━━━━━━━━━━━━━━━━━━━━╇━━━━━━━━━━━━━━━━━━━━━━━━╇━━━━━━━━━━━━━━━┩\n",
              "│ conv2d (<span style=\"color: #0087ff; text-decoration-color: #0087ff\">Conv2D</span>)                 │ (<span style=\"color: #00d7ff; text-decoration-color: #00d7ff\">None</span>, <span style=\"color: #00af00; text-decoration-color: #00af00\">148</span>, <span style=\"color: #00af00; text-decoration-color: #00af00\">148</span>, <span style=\"color: #00af00; text-decoration-color: #00af00\">32</span>)   │           <span style=\"color: #00af00; text-decoration-color: #00af00\">896</span> │\n",
              "├─────────────────────────────────┼────────────────────────┼───────────────┤\n",
              "│ batch_normalization             │ (<span style=\"color: #00d7ff; text-decoration-color: #00d7ff\">None</span>, <span style=\"color: #00af00; text-decoration-color: #00af00\">148</span>, <span style=\"color: #00af00; text-decoration-color: #00af00\">148</span>, <span style=\"color: #00af00; text-decoration-color: #00af00\">32</span>)   │           <span style=\"color: #00af00; text-decoration-color: #00af00\">128</span> │\n",
              "│ (<span style=\"color: #0087ff; text-decoration-color: #0087ff\">BatchNormalization</span>)            │                        │               │\n",
              "├─────────────────────────────────┼────────────────────────┼───────────────┤\n",
              "│ max_pooling2d (<span style=\"color: #0087ff; text-decoration-color: #0087ff\">MaxPooling2D</span>)    │ (<span style=\"color: #00d7ff; text-decoration-color: #00d7ff\">None</span>, <span style=\"color: #00af00; text-decoration-color: #00af00\">74</span>, <span style=\"color: #00af00; text-decoration-color: #00af00\">74</span>, <span style=\"color: #00af00; text-decoration-color: #00af00\">32</span>)     │             <span style=\"color: #00af00; text-decoration-color: #00af00\">0</span> │\n",
              "├─────────────────────────────────┼────────────────────────┼───────────────┤\n",
              "│ conv2d_1 (<span style=\"color: #0087ff; text-decoration-color: #0087ff\">Conv2D</span>)               │ (<span style=\"color: #00d7ff; text-decoration-color: #00d7ff\">None</span>, <span style=\"color: #00af00; text-decoration-color: #00af00\">72</span>, <span style=\"color: #00af00; text-decoration-color: #00af00\">72</span>, <span style=\"color: #00af00; text-decoration-color: #00af00\">64</span>)     │        <span style=\"color: #00af00; text-decoration-color: #00af00\">18,496</span> │\n",
              "├─────────────────────────────────┼────────────────────────┼───────────────┤\n",
              "│ batch_normalization_1           │ (<span style=\"color: #00d7ff; text-decoration-color: #00d7ff\">None</span>, <span style=\"color: #00af00; text-decoration-color: #00af00\">72</span>, <span style=\"color: #00af00; text-decoration-color: #00af00\">72</span>, <span style=\"color: #00af00; text-decoration-color: #00af00\">64</span>)     │           <span style=\"color: #00af00; text-decoration-color: #00af00\">256</span> │\n",
              "│ (<span style=\"color: #0087ff; text-decoration-color: #0087ff\">BatchNormalization</span>)            │                        │               │\n",
              "├─────────────────────────────────┼────────────────────────┼───────────────┤\n",
              "│ max_pooling2d_1 (<span style=\"color: #0087ff; text-decoration-color: #0087ff\">MaxPooling2D</span>)  │ (<span style=\"color: #00d7ff; text-decoration-color: #00d7ff\">None</span>, <span style=\"color: #00af00; text-decoration-color: #00af00\">36</span>, <span style=\"color: #00af00; text-decoration-color: #00af00\">36</span>, <span style=\"color: #00af00; text-decoration-color: #00af00\">64</span>)     │             <span style=\"color: #00af00; text-decoration-color: #00af00\">0</span> │\n",
              "├─────────────────────────────────┼────────────────────────┼───────────────┤\n",
              "│ conv2d_2 (<span style=\"color: #0087ff; text-decoration-color: #0087ff\">Conv2D</span>)               │ (<span style=\"color: #00d7ff; text-decoration-color: #00d7ff\">None</span>, <span style=\"color: #00af00; text-decoration-color: #00af00\">34</span>, <span style=\"color: #00af00; text-decoration-color: #00af00\">34</span>, <span style=\"color: #00af00; text-decoration-color: #00af00\">128</span>)    │        <span style=\"color: #00af00; text-decoration-color: #00af00\">73,856</span> │\n",
              "├─────────────────────────────────┼────────────────────────┼───────────────┤\n",
              "│ batch_normalization_2           │ (<span style=\"color: #00d7ff; text-decoration-color: #00d7ff\">None</span>, <span style=\"color: #00af00; text-decoration-color: #00af00\">34</span>, <span style=\"color: #00af00; text-decoration-color: #00af00\">34</span>, <span style=\"color: #00af00; text-decoration-color: #00af00\">128</span>)    │           <span style=\"color: #00af00; text-decoration-color: #00af00\">512</span> │\n",
              "│ (<span style=\"color: #0087ff; text-decoration-color: #0087ff\">BatchNormalization</span>)            │                        │               │\n",
              "├─────────────────────────────────┼────────────────────────┼───────────────┤\n",
              "│ max_pooling2d_2 (<span style=\"color: #0087ff; text-decoration-color: #0087ff\">MaxPooling2D</span>)  │ (<span style=\"color: #00d7ff; text-decoration-color: #00d7ff\">None</span>, <span style=\"color: #00af00; text-decoration-color: #00af00\">17</span>, <span style=\"color: #00af00; text-decoration-color: #00af00\">17</span>, <span style=\"color: #00af00; text-decoration-color: #00af00\">128</span>)    │             <span style=\"color: #00af00; text-decoration-color: #00af00\">0</span> │\n",
              "├─────────────────────────────────┼────────────────────────┼───────────────┤\n",
              "│ flatten (<span style=\"color: #0087ff; text-decoration-color: #0087ff\">Flatten</span>)               │ (<span style=\"color: #00d7ff; text-decoration-color: #00d7ff\">None</span>, <span style=\"color: #00af00; text-decoration-color: #00af00\">36992</span>)          │             <span style=\"color: #00af00; text-decoration-color: #00af00\">0</span> │\n",
              "├─────────────────────────────────┼────────────────────────┼───────────────┤\n",
              "│ dense (<span style=\"color: #0087ff; text-decoration-color: #0087ff\">Dense</span>)                   │ (<span style=\"color: #00d7ff; text-decoration-color: #00d7ff\">None</span>, <span style=\"color: #00af00; text-decoration-color: #00af00\">512</span>)            │    <span style=\"color: #00af00; text-decoration-color: #00af00\">18,940,416</span> │\n",
              "├─────────────────────────────────┼────────────────────────┼───────────────┤\n",
              "│ batch_normalization_3           │ (<span style=\"color: #00d7ff; text-decoration-color: #00d7ff\">None</span>, <span style=\"color: #00af00; text-decoration-color: #00af00\">512</span>)            │         <span style=\"color: #00af00; text-decoration-color: #00af00\">2,048</span> │\n",
              "│ (<span style=\"color: #0087ff; text-decoration-color: #0087ff\">BatchNormalization</span>)            │                        │               │\n",
              "├─────────────────────────────────┼────────────────────────┼───────────────┤\n",
              "│ dropout (<span style=\"color: #0087ff; text-decoration-color: #0087ff\">Dropout</span>)               │ (<span style=\"color: #00d7ff; text-decoration-color: #00d7ff\">None</span>, <span style=\"color: #00af00; text-decoration-color: #00af00\">512</span>)            │             <span style=\"color: #00af00; text-decoration-color: #00af00\">0</span> │\n",
              "├─────────────────────────────────┼────────────────────────┼───────────────┤\n",
              "│ dense_1 (<span style=\"color: #0087ff; text-decoration-color: #0087ff\">Dense</span>)                 │ (<span style=\"color: #00d7ff; text-decoration-color: #00d7ff\">None</span>, <span style=\"color: #00af00; text-decoration-color: #00af00\">31</span>)             │        <span style=\"color: #00af00; text-decoration-color: #00af00\">15,903</span> │\n",
              "└─────────────────────────────────┴────────────────────────┴───────────────┘\n",
              "</pre>\n"
            ]
          },
          "metadata": {}
        },
        {
          "output_type": "display_data",
          "data": {
            "text/plain": [
              "\u001b[1m Total params: \u001b[0m\u001b[38;5;34m19,052,511\u001b[0m (72.68 MB)\n"
            ],
            "text/html": [
              "<pre style=\"white-space:pre;overflow-x:auto;line-height:normal;font-family:Menlo,'DejaVu Sans Mono',consolas,'Courier New',monospace\"><span style=\"font-weight: bold\"> Total params: </span><span style=\"color: #00af00; text-decoration-color: #00af00\">19,052,511</span> (72.68 MB)\n",
              "</pre>\n"
            ]
          },
          "metadata": {}
        },
        {
          "output_type": "display_data",
          "data": {
            "text/plain": [
              "\u001b[1m Trainable params: \u001b[0m\u001b[38;5;34m19,051,039\u001b[0m (72.67 MB)\n"
            ],
            "text/html": [
              "<pre style=\"white-space:pre;overflow-x:auto;line-height:normal;font-family:Menlo,'DejaVu Sans Mono',consolas,'Courier New',monospace\"><span style=\"font-weight: bold\"> Trainable params: </span><span style=\"color: #00af00; text-decoration-color: #00af00\">19,051,039</span> (72.67 MB)\n",
              "</pre>\n"
            ]
          },
          "metadata": {}
        },
        {
          "output_type": "display_data",
          "data": {
            "text/plain": [
              "\u001b[1m Non-trainable params: \u001b[0m\u001b[38;5;34m1,472\u001b[0m (5.75 KB)\n"
            ],
            "text/html": [
              "<pre style=\"white-space:pre;overflow-x:auto;line-height:normal;font-family:Menlo,'DejaVu Sans Mono',consolas,'Courier New',monospace\"><span style=\"font-weight: bold\"> Non-trainable params: </span><span style=\"color: #00af00; text-decoration-color: #00af00\">1,472</span> (5.75 KB)\n",
              "</pre>\n"
            ]
          },
          "metadata": {}
        },
        {
          "output_type": "stream",
          "name": "stdout",
          "text": [
            "Memulai pelatihan model...\n"
          ]
        },
        {
          "output_type": "stream",
          "name": "stderr",
          "text": [
            "/usr/local/lib/python3.11/dist-packages/keras/src/trainers/data_adapters/py_dataset_adapter.py:121: UserWarning: Your `PyDataset` class should call `super().__init__(**kwargs)` in its constructor. `**kwargs` can include `workers`, `use_multiprocessing`, `max_queue_size`. Do not pass these arguments to `fit()`, as they will be ignored.\n",
            "  self._warn_if_super_not_called()\n"
          ]
        },
        {
          "output_type": "stream",
          "name": "stdout",
          "text": [
            "Epoch 1/100\n",
            "\u001b[1m276/276\u001b[0m \u001b[32m━━━━━━━━━━━━━━━━━━━━\u001b[0m\u001b[37m\u001b[0m \u001b[1m113s\u001b[0m 373ms/step - accuracy: 0.1585 - loss: 5.4508 - val_accuracy: 0.1389 - val_loss: 4.7658 - learning_rate: 0.0010\n",
            "Epoch 2/100\n",
            "\u001b[1m276/276\u001b[0m \u001b[32m━━━━━━━━━━━━━━━━━━━━\u001b[0m\u001b[37m\u001b[0m \u001b[1m95s\u001b[0m 344ms/step - accuracy: 0.2537 - loss: 4.3201 - val_accuracy: 0.2719 - val_loss: 3.8884 - learning_rate: 0.0010\n",
            "Epoch 3/100\n",
            "\u001b[1m276/276\u001b[0m \u001b[32m━━━━━━━━━━━━━━━━━━━━\u001b[0m\u001b[37m\u001b[0m \u001b[1m101s\u001b[0m 365ms/step - accuracy: 0.2837 - loss: 3.8923 - val_accuracy: 0.2625 - val_loss: 4.0296 - learning_rate: 0.0010\n",
            "Epoch 4/100\n",
            "\u001b[1m276/276\u001b[0m \u001b[32m━━━━━━━━━━━━━━━━━━━━\u001b[0m\u001b[37m\u001b[0m \u001b[1m95s\u001b[0m 345ms/step - accuracy: 0.3264 - loss: 3.7064 - val_accuracy: 0.2795 - val_loss: 3.9325 - learning_rate: 0.0010\n",
            "Epoch 5/100\n",
            "\u001b[1m276/276\u001b[0m \u001b[32m━━━━━━━━━━━━━━━━━━━━\u001b[0m\u001b[37m\u001b[0m \u001b[1m93s\u001b[0m 339ms/step - accuracy: 0.3615 - loss: 3.5452 - val_accuracy: 0.3577 - val_loss: 3.5108 - learning_rate: 0.0010\n",
            "Epoch 6/100\n",
            "\u001b[1m276/276\u001b[0m \u001b[32m━━━━━━━━━━━━━━━━━━━━\u001b[0m\u001b[37m\u001b[0m \u001b[1m93s\u001b[0m 339ms/step - accuracy: 0.3694 - loss: 3.5332 - val_accuracy: 0.3889 - val_loss: 3.5640 - learning_rate: 0.0010\n",
            "Epoch 7/100\n",
            "\u001b[1m276/276\u001b[0m \u001b[32m━━━━━━━━━━━━━━━━━━━━\u001b[0m\u001b[37m\u001b[0m \u001b[1m94s\u001b[0m 340ms/step - accuracy: 0.3851 - loss: 3.5603 - val_accuracy: 0.4180 - val_loss: 3.6323 - learning_rate: 0.0010\n",
            "Epoch 8/100\n",
            "\u001b[1m276/276\u001b[0m \u001b[32m━━━━━━━━━━━━━━━━━━━━\u001b[0m\u001b[37m\u001b[0m \u001b[1m92s\u001b[0m 333ms/step - accuracy: 0.3924 - loss: 3.7804 - val_accuracy: 0.2635 - val_loss: 4.5932 - learning_rate: 0.0010\n",
            "Epoch 9/100\n",
            "\u001b[1m276/276\u001b[0m \u001b[32m━━━━━━━━━━━━━━━━━━━━\u001b[0m\u001b[37m\u001b[0m \u001b[1m94s\u001b[0m 339ms/step - accuracy: 0.4060 - loss: 3.7994 - val_accuracy: 0.3991 - val_loss: 3.9865 - learning_rate: 0.0010\n",
            "Epoch 10/100\n",
            "\u001b[1m276/276\u001b[0m \u001b[32m━━━━━━━━━━━━━━━━━━━━\u001b[0m\u001b[37m\u001b[0m \u001b[1m92s\u001b[0m 333ms/step - accuracy: 0.4282 - loss: 3.8689 - val_accuracy: 0.4260 - val_loss: 4.0660 - learning_rate: 0.0010\n",
            "Epoch 11/100\n",
            "\u001b[1m276/276\u001b[0m \u001b[32m━━━━━━━━━━━━━━━━━━━━\u001b[0m\u001b[37m\u001b[0m \u001b[1m93s\u001b[0m 338ms/step - accuracy: 0.4606 - loss: 3.6705 - val_accuracy: 0.5140 - val_loss: 3.1051 - learning_rate: 2.0000e-04\n",
            "Epoch 12/100\n",
            "\u001b[1m276/276\u001b[0m \u001b[32m━━━━━━━━━━━━━━━━━━━━\u001b[0m\u001b[37m\u001b[0m \u001b[1m92s\u001b[0m 334ms/step - accuracy: 0.5086 - loss: 2.9981 - val_accuracy: 0.5089 - val_loss: 2.8703 - learning_rate: 2.0000e-04\n",
            "Epoch 13/100\n",
            "\u001b[1m276/276\u001b[0m \u001b[32m━━━━━━━━━━━━━━━━━━━━\u001b[0m\u001b[37m\u001b[0m \u001b[1m93s\u001b[0m 337ms/step - accuracy: 0.5374 - loss: 2.6663 - val_accuracy: 0.5776 - val_loss: 2.4541 - learning_rate: 2.0000e-04\n",
            "Epoch 14/100\n",
            "\u001b[1m276/276\u001b[0m \u001b[32m━━━━━━━━━━━━━━━━━━━━\u001b[0m\u001b[37m\u001b[0m \u001b[1m93s\u001b[0m 337ms/step - accuracy: 0.5570 - loss: 2.5383 - val_accuracy: 0.5823 - val_loss: 2.4355 - learning_rate: 2.0000e-04\n",
            "Epoch 15/100\n",
            "\u001b[1m276/276\u001b[0m \u001b[32m━━━━━━━━━━━━━━━━━━━━\u001b[0m\u001b[37m\u001b[0m \u001b[1m95s\u001b[0m 344ms/step - accuracy: 0.5621 - loss: 2.4704 - val_accuracy: 0.4696 - val_loss: 2.9485 - learning_rate: 2.0000e-04\n",
            "Epoch 16/100\n",
            "\u001b[1m276/276\u001b[0m \u001b[32m━━━━━━━━━━━━━━━━━━━━\u001b[0m\u001b[37m\u001b[0m \u001b[1m94s\u001b[0m 342ms/step - accuracy: 0.5747 - loss: 2.3904 - val_accuracy: 0.5685 - val_loss: 2.4678 - learning_rate: 2.0000e-04\n",
            "Epoch 17/100\n",
            "\u001b[1m276/276\u001b[0m \u001b[32m━━━━━━━━━━━━━━━━━━━━\u001b[0m\u001b[37m\u001b[0m \u001b[1m94s\u001b[0m 342ms/step - accuracy: 0.5786 - loss: 2.3505 - val_accuracy: 0.6067 - val_loss: 2.3000 - learning_rate: 2.0000e-04\n",
            "Epoch 18/100\n",
            "\u001b[1m276/276\u001b[0m \u001b[32m━━━━━━━━━━━━━━━━━━━━\u001b[0m\u001b[37m\u001b[0m \u001b[1m92s\u001b[0m 334ms/step - accuracy: 0.5841 - loss: 2.3508 - val_accuracy: 0.6467 - val_loss: 2.1194 - learning_rate: 2.0000e-04\n",
            "Epoch 19/100\n",
            "\u001b[1m276/276\u001b[0m \u001b[32m━━━━━━━━━━━━━━━━━━━━\u001b[0m\u001b[37m\u001b[0m \u001b[1m94s\u001b[0m 340ms/step - accuracy: 0.6028 - loss: 2.2957 - val_accuracy: 0.6230 - val_loss: 2.1816 - learning_rate: 2.0000e-04\n",
            "Epoch 20/100\n",
            "\u001b[1m276/276\u001b[0m \u001b[32m━━━━━━━━━━━━━━━━━━━━\u001b[0m\u001b[37m\u001b[0m \u001b[1m104s\u001b[0m 376ms/step - accuracy: 0.5996 - loss: 2.2699 - val_accuracy: 0.6379 - val_loss: 2.1712 - learning_rate: 2.0000e-04\n",
            "Epoch 21/100\n",
            "\u001b[1m276/276\u001b[0m \u001b[32m━━━━━━━━━━━━━━━━━━━━\u001b[0m\u001b[37m\u001b[0m \u001b[1m93s\u001b[0m 338ms/step - accuracy: 0.5965 - loss: 2.2881 - val_accuracy: 0.6081 - val_loss: 2.3002 - learning_rate: 2.0000e-04\n",
            "Epoch 22/100\n",
            "\u001b[1m276/276\u001b[0m \u001b[32m━━━━━━━━━━━━━━━━━━━━\u001b[0m\u001b[37m\u001b[0m \u001b[1m92s\u001b[0m 335ms/step - accuracy: 0.6033 - loss: 2.2628 - val_accuracy: 0.6263 - val_loss: 2.2387 - learning_rate: 2.0000e-04\n",
            "Epoch 23/100\n",
            "\u001b[1m276/276\u001b[0m \u001b[32m━━━━━━━━━━━━━━━━━━━━\u001b[0m\u001b[37m\u001b[0m \u001b[1m97s\u001b[0m 352ms/step - accuracy: 0.6220 - loss: 2.2255 - val_accuracy: 0.6939 - val_loss: 2.0074 - learning_rate: 2.0000e-04\n",
            "Epoch 24/100\n",
            "\u001b[1m276/276\u001b[0m \u001b[32m━━━━━━━━━━━━━━━━━━━━\u001b[0m\u001b[37m\u001b[0m \u001b[1m99s\u001b[0m 357ms/step - accuracy: 0.6181 - loss: 2.2234 - val_accuracy: 0.5456 - val_loss: 2.6625 - learning_rate: 2.0000e-04\n",
            "Epoch 25/100\n",
            "\u001b[1m276/276\u001b[0m \u001b[32m━━━━━━━━━━━━━━━━━━━━\u001b[0m\u001b[37m\u001b[0m \u001b[1m98s\u001b[0m 354ms/step - accuracy: 0.6243 - loss: 2.2194 - val_accuracy: 0.7150 - val_loss: 1.9289 - learning_rate: 2.0000e-04\n",
            "Epoch 26/100\n",
            "\u001b[1m276/276\u001b[0m \u001b[32m━━━━━━━━━━━━━━━━━━━━\u001b[0m\u001b[37m\u001b[0m \u001b[1m96s\u001b[0m 347ms/step - accuracy: 0.6412 - loss: 2.2025 - val_accuracy: 0.6052 - val_loss: 2.4722 - learning_rate: 2.0000e-04\n",
            "Epoch 27/100\n",
            "\u001b[1m276/276\u001b[0m \u001b[32m━━━━━━━━━━━━━━━━━━━━\u001b[0m\u001b[37m\u001b[0m \u001b[1m95s\u001b[0m 345ms/step - accuracy: 0.6462 - loss: 2.1912 - val_accuracy: 0.6856 - val_loss: 2.0822 - learning_rate: 2.0000e-04\n",
            "Epoch 28/100\n",
            "\u001b[1m276/276\u001b[0m \u001b[32m━━━━━━━━━━━━━━━━━━━━\u001b[0m\u001b[37m\u001b[0m \u001b[1m93s\u001b[0m 339ms/step - accuracy: 0.6493 - loss: 2.1793 - val_accuracy: 0.6845 - val_loss: 2.0965 - learning_rate: 2.0000e-04\n",
            "Epoch 29/100\n",
            "\u001b[1m276/276\u001b[0m \u001b[32m━━━━━━━━━━━━━━━━━━━━\u001b[0m\u001b[37m\u001b[0m \u001b[1m94s\u001b[0m 340ms/step - accuracy: 0.6556 - loss: 2.1627 - val_accuracy: 0.6888 - val_loss: 2.0392 - learning_rate: 2.0000e-04\n",
            "Epoch 30/100\n",
            "\u001b[1m276/276\u001b[0m \u001b[32m━━━━━━━━━━━━━━━━━━━━\u001b[0m\u001b[37m\u001b[0m \u001b[1m103s\u001b[0m 373ms/step - accuracy: 0.6507 - loss: 2.1769 - val_accuracy: 0.7052 - val_loss: 2.0188 - learning_rate: 2.0000e-04\n",
            "Epoch 31/100\n",
            "\u001b[1m276/276\u001b[0m \u001b[32m━━━━━━━━━━━━━━━━━━━━\u001b[0m\u001b[37m\u001b[0m \u001b[1m95s\u001b[0m 341ms/step - accuracy: 0.6677 - loss: 2.1247 - val_accuracy: 0.6863 - val_loss: 2.0519 - learning_rate: 4.0000e-05\n",
            "Epoch 32/100\n",
            "\u001b[1m276/276\u001b[0m \u001b[32m━━━━━━━━━━━━━━━━━━━━\u001b[0m\u001b[37m\u001b[0m \u001b[1m93s\u001b[0m 338ms/step - accuracy: 0.6908 - loss: 2.0096 - val_accuracy: 0.7176 - val_loss: 1.9034 - learning_rate: 4.0000e-05\n",
            "Epoch 33/100\n",
            "\u001b[1m276/276\u001b[0m \u001b[32m━━━━━━━━━━━━━━━━━━━━\u001b[0m\u001b[37m\u001b[0m \u001b[1m102s\u001b[0m 369ms/step - accuracy: 0.6981 - loss: 1.9842 - val_accuracy: 0.7299 - val_loss: 1.8078 - learning_rate: 4.0000e-05\n",
            "Epoch 34/100\n",
            "\u001b[1m276/276\u001b[0m \u001b[32m━━━━━━━━━━━━━━━━━━━━\u001b[0m\u001b[37m\u001b[0m \u001b[1m104s\u001b[0m 375ms/step - accuracy: 0.7066 - loss: 1.9330 - val_accuracy: 0.7612 - val_loss: 1.6967 - learning_rate: 4.0000e-05\n",
            "Epoch 35/100\n",
            "\u001b[1m276/276\u001b[0m \u001b[32m━━━━━━━━━━━━━━━━━━━━\u001b[0m\u001b[37m\u001b[0m \u001b[1m93s\u001b[0m 338ms/step - accuracy: 0.6976 - loss: 1.9048 - val_accuracy: 0.7415 - val_loss: 1.7277 - learning_rate: 4.0000e-05\n",
            "Epoch 36/100\n",
            "\u001b[1m276/276\u001b[0m \u001b[32m━━━━━━━━━━━━━━━━━━━━\u001b[0m\u001b[37m\u001b[0m \u001b[1m141s\u001b[0m 335ms/step - accuracy: 0.7141 - loss: 1.8424 - val_accuracy: 0.7092 - val_loss: 1.8456 - learning_rate: 4.0000e-05\n",
            "Epoch 37/100\n",
            "\u001b[1m276/276\u001b[0m \u001b[32m━━━━━━━━━━━━━━━━━━━━\u001b[0m\u001b[37m\u001b[0m \u001b[1m93s\u001b[0m 339ms/step - accuracy: 0.7044 - loss: 1.8196 - val_accuracy: 0.7459 - val_loss: 1.6717 - learning_rate: 4.0000e-05\n",
            "Epoch 38/100\n",
            "\u001b[1m276/276\u001b[0m \u001b[32m━━━━━━━━━━━━━━━━━━━━\u001b[0m\u001b[37m\u001b[0m \u001b[1m92s\u001b[0m 335ms/step - accuracy: 0.7278 - loss: 1.7485 - val_accuracy: 0.7619 - val_loss: 1.5994 - learning_rate: 4.0000e-05\n",
            "Epoch 39/100\n",
            "\u001b[1m276/276\u001b[0m \u001b[32m━━━━━━━━━━━━━━━━━━━━\u001b[0m\u001b[37m\u001b[0m \u001b[1m93s\u001b[0m 339ms/step - accuracy: 0.7205 - loss: 1.7621 - val_accuracy: 0.7612 - val_loss: 1.5747 - learning_rate: 4.0000e-05\n",
            "Epoch 40/100\n",
            "\u001b[1m276/276\u001b[0m \u001b[32m━━━━━━━━━━━━━━━━━━━━\u001b[0m\u001b[37m\u001b[0m \u001b[1m94s\u001b[0m 340ms/step - accuracy: 0.7197 - loss: 1.7180 - val_accuracy: 0.7641 - val_loss: 1.5633 - learning_rate: 4.0000e-05\n",
            "Epoch 41/100\n",
            "\u001b[1m276/276\u001b[0m \u001b[32m━━━━━━━━━━━━━━━━━━━━\u001b[0m\u001b[37m\u001b[0m \u001b[1m92s\u001b[0m 334ms/step - accuracy: 0.7089 - loss: 1.7397 - val_accuracy: 0.7659 - val_loss: 1.5369 - learning_rate: 4.0000e-05\n",
            "Epoch 42/100\n",
            "\u001b[1m276/276\u001b[0m \u001b[32m━━━━━━━━━━━━━━━━━━━━\u001b[0m\u001b[37m\u001b[0m \u001b[1m94s\u001b[0m 341ms/step - accuracy: 0.7278 - loss: 1.6786 - val_accuracy: 0.7423 - val_loss: 1.5922 - learning_rate: 4.0000e-05\n",
            "Epoch 43/100\n",
            "\u001b[1m276/276\u001b[0m \u001b[32m━━━━━━━━━━━━━━━━━━━━\u001b[0m\u001b[37m\u001b[0m \u001b[1m95s\u001b[0m 343ms/step - accuracy: 0.7372 - loss: 1.6352 - val_accuracy: 0.7550 - val_loss: 1.5404 - learning_rate: 4.0000e-05\n",
            "Epoch 44/100\n",
            "\u001b[1m276/276\u001b[0m \u001b[32m━━━━━━━━━━━━━━━━━━━━\u001b[0m\u001b[37m\u001b[0m \u001b[1m141s\u001b[0m 340ms/step - accuracy: 0.7353 - loss: 1.5967 - val_accuracy: 0.7703 - val_loss: 1.4465 - learning_rate: 4.0000e-05\n",
            "Epoch 45/100\n",
            "\u001b[1m276/276\u001b[0m \u001b[32m━━━━━━━━━━━━━━━━━━━━\u001b[0m\u001b[37m\u001b[0m \u001b[1m94s\u001b[0m 340ms/step - accuracy: 0.7321 - loss: 1.6210 - val_accuracy: 0.7401 - val_loss: 1.5520 - learning_rate: 4.0000e-05\n",
            "Epoch 46/100\n",
            "\u001b[1m276/276\u001b[0m \u001b[32m━━━━━━━━━━━━━━━━━━━━\u001b[0m\u001b[37m\u001b[0m \u001b[1m94s\u001b[0m 342ms/step - accuracy: 0.7457 - loss: 1.5587 - val_accuracy: 0.7735 - val_loss: 1.4286 - learning_rate: 4.0000e-05\n",
            "Epoch 47/100\n",
            "\u001b[1m276/276\u001b[0m \u001b[32m━━━━━━━━━━━━━━━━━━━━\u001b[0m\u001b[37m\u001b[0m \u001b[1m94s\u001b[0m 340ms/step - accuracy: 0.7481 - loss: 1.5416 - val_accuracy: 0.7786 - val_loss: 1.3932 - learning_rate: 4.0000e-05\n",
            "Epoch 48/100\n",
            "\u001b[1m276/276\u001b[0m \u001b[32m━━━━━━━━━━━━━━━━━━━━\u001b[0m\u001b[37m\u001b[0m \u001b[1m94s\u001b[0m 341ms/step - accuracy: 0.7492 - loss: 1.5355 - val_accuracy: 0.7666 - val_loss: 1.4465 - learning_rate: 4.0000e-05\n",
            "Epoch 49/100\n",
            "\u001b[1m276/276\u001b[0m \u001b[32m━━━━━━━━━━━━━━━━━━━━\u001b[0m\u001b[37m\u001b[0m \u001b[1m92s\u001b[0m 335ms/step - accuracy: 0.7489 - loss: 1.5149 - val_accuracy: 0.7906 - val_loss: 1.3458 - learning_rate: 4.0000e-05\n",
            "Epoch 50/100\n",
            "\u001b[1m276/276\u001b[0m \u001b[32m━━━━━━━━━━━━━━━━━━━━\u001b[0m\u001b[37m\u001b[0m \u001b[1m94s\u001b[0m 342ms/step - accuracy: 0.7470 - loss: 1.5032 - val_accuracy: 0.8001 - val_loss: 1.2947 - learning_rate: 4.0000e-05\n",
            "Epoch 51/100\n",
            "\u001b[1m276/276\u001b[0m \u001b[32m━━━━━━━━━━━━━━━━━━━━\u001b[0m\u001b[37m\u001b[0m \u001b[1m94s\u001b[0m 340ms/step - accuracy: 0.7563 - loss: 1.4776 - val_accuracy: 0.7866 - val_loss: 1.3402 - learning_rate: 4.0000e-05\n",
            "Epoch 52/100\n",
            "\u001b[1m276/276\u001b[0m \u001b[32m━━━━━━━━━━━━━━━━━━━━\u001b[0m\u001b[37m\u001b[0m \u001b[1m95s\u001b[0m 342ms/step - accuracy: 0.7596 - loss: 1.4665 - val_accuracy: 0.7975 - val_loss: 1.3080 - learning_rate: 4.0000e-05\n",
            "Epoch 53/100\n",
            "\u001b[1m276/276\u001b[0m \u001b[32m━━━━━━━━━━━━━━━━━━━━\u001b[0m\u001b[37m\u001b[0m \u001b[1m96s\u001b[0m 348ms/step - accuracy: 0.7545 - loss: 1.4465 - val_accuracy: 0.7877 - val_loss: 1.3169 - learning_rate: 4.0000e-05\n",
            "Epoch 54/100\n",
            "\u001b[1m276/276\u001b[0m \u001b[32m━━━━━━━━━━━━━━━━━━━━\u001b[0m\u001b[37m\u001b[0m \u001b[1m95s\u001b[0m 343ms/step - accuracy: 0.7511 - loss: 1.4427 - val_accuracy: 0.7830 - val_loss: 1.3325 - learning_rate: 4.0000e-05\n",
            "Epoch 55/100\n",
            "\u001b[1m276/276\u001b[0m \u001b[32m━━━━━━━━━━━━━━━━━━━━\u001b[0m\u001b[37m\u001b[0m \u001b[1m105s\u001b[0m 380ms/step - accuracy: 0.7495 - loss: 1.4377 - val_accuracy: 0.7993 - val_loss: 1.2773 - learning_rate: 4.0000e-05\n",
            "Epoch 56/100\n",
            "\u001b[1m276/276\u001b[0m \u001b[32m━━━━━━━━━━━━━━━━━━━━\u001b[0m\u001b[37m\u001b[0m \u001b[1m104s\u001b[0m 377ms/step - accuracy: 0.7534 - loss: 1.4307 - val_accuracy: 0.8033 - val_loss: 1.2430 - learning_rate: 4.0000e-05\n",
            "Epoch 57/100\n",
            "\u001b[1m276/276\u001b[0m \u001b[32m━━━━━━━━━━━━━━━━━━━━\u001b[0m\u001b[37m\u001b[0m \u001b[1m103s\u001b[0m 373ms/step - accuracy: 0.7614 - loss: 1.4133 - val_accuracy: 0.7903 - val_loss: 1.2703 - learning_rate: 4.0000e-05\n",
            "Epoch 58/100\n",
            "\u001b[1m276/276\u001b[0m \u001b[32m━━━━━━━━━━━━━━━━━━━━\u001b[0m\u001b[37m\u001b[0m \u001b[1m94s\u001b[0m 339ms/step - accuracy: 0.7618 - loss: 1.4105 - val_accuracy: 0.7692 - val_loss: 1.3469 - learning_rate: 4.0000e-05\n",
            "Epoch 59/100\n",
            "\u001b[1m276/276\u001b[0m \u001b[32m━━━━━━━━━━━━━━━━━━━━\u001b[0m\u001b[37m\u001b[0m \u001b[1m94s\u001b[0m 341ms/step - accuracy: 0.7686 - loss: 1.3759 - val_accuracy: 0.7405 - val_loss: 1.4379 - learning_rate: 4.0000e-05\n",
            "Epoch 60/100\n",
            "\u001b[1m276/276\u001b[0m \u001b[32m━━━━━━━━━━━━━━━━━━━━\u001b[0m\u001b[37m\u001b[0m \u001b[1m93s\u001b[0m 337ms/step - accuracy: 0.7659 - loss: 1.3749 - val_accuracy: 0.8273 - val_loss: 1.1607 - learning_rate: 4.0000e-05\n",
            "Epoch 61/100\n",
            "\u001b[1m276/276\u001b[0m \u001b[32m━━━━━━━━━━━━━━━━━━━━\u001b[0m\u001b[37m\u001b[0m \u001b[1m94s\u001b[0m 341ms/step - accuracy: 0.7638 - loss: 1.3685 - val_accuracy: 0.8193 - val_loss: 1.1702 - learning_rate: 4.0000e-05\n",
            "Epoch 62/100\n",
            "\u001b[1m276/276\u001b[0m \u001b[32m━━━━━━━━━━━━━━━━━━━━\u001b[0m\u001b[37m\u001b[0m \u001b[1m104s\u001b[0m 376ms/step - accuracy: 0.7744 - loss: 1.3362 - val_accuracy: 0.8208 - val_loss: 1.1603 - learning_rate: 4.0000e-05\n",
            "Epoch 63/100\n",
            "\u001b[1m276/276\u001b[0m \u001b[32m━━━━━━━━━━━━━━━━━━━━\u001b[0m\u001b[37m\u001b[0m \u001b[1m94s\u001b[0m 342ms/step - accuracy: 0.7731 - loss: 1.3380 - val_accuracy: 0.8113 - val_loss: 1.1652 - learning_rate: 4.0000e-05\n",
            "Epoch 64/100\n",
            "\u001b[1m276/276\u001b[0m \u001b[32m━━━━━━━━━━━━━━━━━━━━\u001b[0m\u001b[37m\u001b[0m \u001b[1m95s\u001b[0m 341ms/step - accuracy: 0.7718 - loss: 1.3117 - val_accuracy: 0.8103 - val_loss: 1.1863 - learning_rate: 4.0000e-05\n",
            "Epoch 65/100\n",
            "\u001b[1m276/276\u001b[0m \u001b[32m━━━━━━━━━━━━━━━━━━━━\u001b[0m\u001b[37m\u001b[0m \u001b[1m92s\u001b[0m 334ms/step - accuracy: 0.7732 - loss: 1.3280 - val_accuracy: 0.8182 - val_loss: 1.1674 - learning_rate: 4.0000e-05\n",
            "Epoch 66/100\n",
            "\u001b[1m276/276\u001b[0m \u001b[32m━━━━━━━━━━━━━━━━━━━━\u001b[0m\u001b[37m\u001b[0m \u001b[1m96s\u001b[0m 347ms/step - accuracy: 0.7613 - loss: 1.3407 - val_accuracy: 0.8350 - val_loss: 1.1159 - learning_rate: 4.0000e-05\n",
            "Epoch 67/100\n",
            "\u001b[1m276/276\u001b[0m \u001b[32m━━━━━━━━━━━━━━━━━━━━\u001b[0m\u001b[37m\u001b[0m \u001b[1m96s\u001b[0m 347ms/step - accuracy: 0.7724 - loss: 1.3132 - val_accuracy: 0.8041 - val_loss: 1.1682 - learning_rate: 4.0000e-05\n",
            "Epoch 68/100\n",
            "\u001b[1m276/276\u001b[0m \u001b[32m━━━━━━━━━━━━━━━━━━━━\u001b[0m\u001b[37m\u001b[0m \u001b[1m94s\u001b[0m 341ms/step - accuracy: 0.7697 - loss: 1.3178 - val_accuracy: 0.7761 - val_loss: 1.2675 - learning_rate: 4.0000e-05\n",
            "Epoch 69/100\n",
            "\u001b[1m276/276\u001b[0m \u001b[32m━━━━━━━━━━━━━━━━━━━━\u001b[0m\u001b[37m\u001b[0m \u001b[1m94s\u001b[0m 341ms/step - accuracy: 0.7655 - loss: 1.3039 - val_accuracy: 0.8193 - val_loss: 1.1271 - learning_rate: 4.0000e-05\n",
            "Epoch 70/100\n",
            "\u001b[1m276/276\u001b[0m \u001b[32m━━━━━━━━━━━━━━━━━━━━\u001b[0m\u001b[37m\u001b[0m \u001b[1m104s\u001b[0m 376ms/step - accuracy: 0.7812 - loss: 1.2735 - val_accuracy: 0.8288 - val_loss: 1.1092 - learning_rate: 4.0000e-05\n",
            "Epoch 71/100\n",
            "\u001b[1m276/276\u001b[0m \u001b[32m━━━━━━━━━━━━━━━━━━━━\u001b[0m\u001b[37m\u001b[0m \u001b[1m94s\u001b[0m 341ms/step - accuracy: 0.7694 - loss: 1.2824 - val_accuracy: 0.8117 - val_loss: 1.1424 - learning_rate: 4.0000e-05\n",
            "Epoch 72/100\n",
            "\u001b[1m276/276\u001b[0m \u001b[32m━━━━━━━━━━━━━━━━━━━━\u001b[0m\u001b[37m\u001b[0m \u001b[1m94s\u001b[0m 341ms/step - accuracy: 0.7776 - loss: 1.2685 - val_accuracy: 0.8302 - val_loss: 1.0906 - learning_rate: 4.0000e-05\n",
            "Epoch 73/100\n",
            "\u001b[1m276/276\u001b[0m \u001b[32m━━━━━━━━━━━━━━━━━━━━\u001b[0m\u001b[37m\u001b[0m \u001b[1m93s\u001b[0m 337ms/step - accuracy: 0.7674 - loss: 1.2735 - val_accuracy: 0.8477 - val_loss: 1.0406 - learning_rate: 4.0000e-05\n",
            "Epoch 74/100\n",
            "\u001b[1m276/276\u001b[0m \u001b[32m━━━━━━━━━━━━━━━━━━━━\u001b[0m\u001b[37m\u001b[0m \u001b[1m94s\u001b[0m 340ms/step - accuracy: 0.7866 - loss: 1.2281 - val_accuracy: 0.8044 - val_loss: 1.1490 - learning_rate: 4.0000e-05\n",
            "Epoch 75/100\n",
            "\u001b[1m276/276\u001b[0m \u001b[32m━━━━━━━━━━━━━━━━━━━━\u001b[0m\u001b[37m\u001b[0m \u001b[1m103s\u001b[0m 373ms/step - accuracy: 0.7771 - loss: 1.2546 - val_accuracy: 0.8103 - val_loss: 1.1439 - learning_rate: 4.0000e-05\n",
            "Epoch 76/100\n",
            "\u001b[1m276/276\u001b[0m \u001b[32m━━━━━━━━━━━━━━━━━━━━\u001b[0m\u001b[37m\u001b[0m \u001b[1m93s\u001b[0m 337ms/step - accuracy: 0.7866 - loss: 1.2387 - val_accuracy: 0.8288 - val_loss: 1.0763 - learning_rate: 4.0000e-05\n",
            "Epoch 77/100\n",
            "\u001b[1m276/276\u001b[0m \u001b[32m━━━━━━━━━━━━━━━━━━━━\u001b[0m\u001b[37m\u001b[0m \u001b[1m94s\u001b[0m 339ms/step - accuracy: 0.7837 - loss: 1.2456 - val_accuracy: 0.8466 - val_loss: 1.0402 - learning_rate: 4.0000e-05\n",
            "Epoch 78/100\n",
            "\u001b[1m276/276\u001b[0m \u001b[32m━━━━━━━━━━━━━━━━━━━━\u001b[0m\u001b[37m\u001b[0m \u001b[1m94s\u001b[0m 341ms/step - accuracy: 0.7848 - loss: 1.2300 - val_accuracy: 0.8259 - val_loss: 1.0774 - learning_rate: 4.0000e-05\n",
            "Epoch 79/100\n",
            "\u001b[1m276/276\u001b[0m \u001b[32m━━━━━━━━━━━━━━━━━━━━\u001b[0m\u001b[37m\u001b[0m \u001b[1m93s\u001b[0m 336ms/step - accuracy: 0.7903 - loss: 1.2205 - val_accuracy: 0.8288 - val_loss: 1.0808 - learning_rate: 4.0000e-05\n",
            "Epoch 80/100\n",
            "\u001b[1m276/276\u001b[0m \u001b[32m━━━━━━━━━━━━━━━━━━━━\u001b[0m\u001b[37m\u001b[0m \u001b[1m94s\u001b[0m 342ms/step - accuracy: 0.7817 - loss: 1.2230 - val_accuracy: 0.8677 - val_loss: 0.9711 - learning_rate: 4.0000e-05\n",
            "Epoch 81/100\n",
            "\u001b[1m276/276\u001b[0m \u001b[32m━━━━━━━━━━━━━━━━━━━━\u001b[0m\u001b[37m\u001b[0m \u001b[1m97s\u001b[0m 352ms/step - accuracy: 0.7925 - loss: 1.2315 - val_accuracy: 0.7663 - val_loss: 1.2967 - learning_rate: 4.0000e-05\n",
            "Epoch 82/100\n",
            "\u001b[1m276/276\u001b[0m \u001b[32m━━━━━━━━━━━━━━━━━━━━\u001b[0m\u001b[37m\u001b[0m \u001b[1m95s\u001b[0m 345ms/step - accuracy: 0.7886 - loss: 1.2158 - val_accuracy: 0.8346 - val_loss: 1.0658 - learning_rate: 4.0000e-05\n",
            "Epoch 83/100\n",
            "\u001b[1m276/276\u001b[0m \u001b[32m━━━━━━━━━━━━━━━━━━━━\u001b[0m\u001b[37m\u001b[0m \u001b[1m95s\u001b[0m 345ms/step - accuracy: 0.8033 - loss: 1.1709 - val_accuracy: 0.8186 - val_loss: 1.1040 - learning_rate: 4.0000e-05\n",
            "Epoch 84/100\n",
            "\u001b[1m276/276\u001b[0m \u001b[32m━━━━━━━━━━━━━━━━━━━━\u001b[0m\u001b[37m\u001b[0m \u001b[1m95s\u001b[0m 343ms/step - accuracy: 0.7954 - loss: 1.1905 - val_accuracy: 0.8357 - val_loss: 1.0343 - learning_rate: 4.0000e-05\n",
            "Epoch 85/100\n",
            "\u001b[1m276/276\u001b[0m \u001b[32m━━━━━━━━━━━━━━━━━━━━\u001b[0m\u001b[37m\u001b[0m \u001b[1m95s\u001b[0m 345ms/step - accuracy: 0.7920 - loss: 1.1836 - val_accuracy: 0.8204 - val_loss: 1.0743 - learning_rate: 4.0000e-05\n",
            "Epoch 86/100\n",
            "\u001b[1m276/276\u001b[0m \u001b[32m━━━━━━━━━━━━━━━━━━━━\u001b[0m\u001b[37m\u001b[0m \u001b[1m97s\u001b[0m 350ms/step - accuracy: 0.8019 - loss: 1.1771 - val_accuracy: 0.8339 - val_loss: 1.0354 - learning_rate: 1.0000e-05\n",
            "Epoch 87/100\n",
            "\u001b[1m276/276\u001b[0m \u001b[32m━━━━━━━━━━━━━━━━━━━━\u001b[0m\u001b[37m\u001b[0m \u001b[1m95s\u001b[0m 344ms/step - accuracy: 0.7922 - loss: 1.1822 - val_accuracy: 0.8419 - val_loss: 1.0181 - learning_rate: 1.0000e-05\n",
            "Epoch 88/100\n",
            "\u001b[1m276/276\u001b[0m \u001b[32m━━━━━━━━━━━━━━━━━━━━\u001b[0m\u001b[37m\u001b[0m \u001b[1m100s\u001b[0m 362ms/step - accuracy: 0.8043 - loss: 1.1397 - val_accuracy: 0.8411 - val_loss: 1.0107 - learning_rate: 1.0000e-05\n",
            "Epoch 89/100\n",
            "\u001b[1m276/276\u001b[0m \u001b[32m━━━━━━━━━━━━━━━━━━━━\u001b[0m\u001b[37m\u001b[0m \u001b[1m94s\u001b[0m 342ms/step - accuracy: 0.8165 - loss: 1.1315 - val_accuracy: 0.8539 - val_loss: 0.9831 - learning_rate: 1.0000e-05\n",
            "Epoch 90/100\n",
            "\u001b[1m276/276\u001b[0m \u001b[32m━━━━━━━━━━━━━━━━━━━━\u001b[0m\u001b[37m\u001b[0m \u001b[1m96s\u001b[0m 348ms/step - accuracy: 0.7995 - loss: 1.1514 - val_accuracy: 0.8273 - val_loss: 1.0487 - learning_rate: 1.0000e-05\n",
            "Pelatihan model selesai.\n"
          ]
        }
      ]
    },
    {
      "cell_type": "markdown",
      "source": [
        "# EVALUASI MODEL"
      ],
      "metadata": {
        "id": "1HCbc41hrB1l"
      }
    },
    {
      "cell_type": "code",
      "source": [
        "# --- 5. EVALUASI MODEL ---\n",
        "print(\"Melakukan evaluasi model pada data tes...\")\n",
        "test_generator = val_test_datagen.flow_from_directory(\n",
        "    test_dir,\n",
        "    target_size=(IMG_HEIGHT, IMG_WIDTH),\n",
        "    batch_size=1, # Batch size 1 untuk evaluasi agar mudah dianalisis\n",
        "    shuffle=False,\n",
        "    class_mode='categorical'\n",
        ")\n",
        "\n",
        "# Lakukan prediksi\n",
        "y_pred_probs = model.predict(test_generator)\n",
        "y_pred = np.argmax(y_pred_probs, axis=1)\n",
        "y_true = test_generator.classes\n",
        "class_labels = list(test_generator.class_indices.keys())\n",
        "\n",
        "# Tampilkan Laporan Klasifikasi (Akurasi, Presisi, Recall, F1-Score)\n",
        "print(\"\\n--- Laporan Klasifikasi ---\\n\")\n",
        "print(classification_report(y_true, y_pred, target_names=class_labels))"
      ],
      "metadata": {
        "colab": {
          "base_uri": "https://localhost:8080/"
        },
        "id": "M_EsonpRrEbb",
        "outputId": "d2760552-7723-4a74-cf36-20c8695328ef"
      },
      "execution_count": 6,
      "outputs": [
        {
          "output_type": "stream",
          "name": "stdout",
          "text": [
            "Melakukan evaluasi model pada data tes...\n",
            "Found 1760 images belonging to 31 classes.\n",
            "\u001b[1m1760/1760\u001b[0m \u001b[32m━━━━━━━━━━━━━━━━━━━━\u001b[0m\u001b[37m\u001b[0m \u001b[1m12s\u001b[0m 6ms/step\n",
            "\n",
            "--- Laporan Klasifikasi ---\n",
            "\n",
            "                       precision    recall  f1-score   support\n",
            "\n",
            "               Bangus       0.64      0.62      0.63        34\n",
            "        Big Head Carp       0.84      0.63      0.72        43\n",
            "   Black Spotted Barb       0.87      0.82      0.85        40\n",
            "              Catfish       0.74      0.73      0.73        62\n",
            "       Climbing Perch       0.83      0.63      0.72        30\n",
            " Fourfinger Threadfin       0.84      0.84      0.84        38\n",
            "       Freshwater Eel       0.70      0.80      0.75        55\n",
            "       Glass Perchlet       0.96      0.87      0.91        77\n",
            "                 Goby       0.82      0.83      0.82       124\n",
            "            Gold Fish       1.00      1.00      1.00        41\n",
            "              Gourami       0.97      0.95      0.96        63\n",
            "           Grass Carp       0.87      0.97      0.92       238\n",
            " Green Spotted Puffer       1.00      0.95      0.98        22\n",
            "          Indian Carp       0.94      0.91      0.92        53\n",
            "  Indo-Pacific Tarpon       0.52      0.77      0.62        39\n",
            "        Jaguar Gapote       0.88      0.95      0.91        44\n",
            "         Janitor Fish       0.79      0.90      0.84        58\n",
            "            Knifefish       0.91      0.92      0.92        65\n",
            "Long-Snouted Pipefish       0.92      0.85      0.88        52\n",
            "        Mosquito Fish       0.85      0.80      0.83        51\n",
            "              Mudfish       0.78      0.53      0.63        34\n",
            "               Mullet       0.78      0.76      0.77        38\n",
            "            Pangasius       0.94      0.87      0.90        38\n",
            "                Perch       0.93      0.92      0.92        60\n",
            "            Scat Fish       1.00      0.94      0.97        33\n",
            "          Silver Barb       0.74      0.84      0.79        64\n",
            "          Silver Carp       1.00      0.85      0.92        48\n",
            "         Silver Perch       0.77      0.81      0.79        57\n",
            "            Snakehead       0.78      0.53      0.63        47\n",
            "           Tenpounder       0.90      0.64      0.75        56\n",
            "              Tilapia       0.66      0.86      0.74        56\n",
            "\n",
            "             accuracy                           0.84      1760\n",
            "            macro avg       0.84      0.82      0.82      1760\n",
            "         weighted avg       0.85      0.84      0.84      1760\n",
            "\n"
          ]
        }
      ]
    },
    {
      "cell_type": "markdown",
      "source": [
        "# VISUALISASI HASIL"
      ],
      "metadata": {
        "id": "Dfp1-740rGlN"
      }
    },
    {
      "cell_type": "code",
      "source": [
        "# --- 6. VISUALISASI HASIL ---\n",
        "print(\"Menyimpan hasil visualisasi...\")\n",
        "# Confusion Matrix\n",
        "conf_matrix = confusion_matrix(y_true, y_pred)\n",
        "plt.figure(figsize=(12, 10))\n",
        "sns.heatmap(conf_matrix, annot=True, fmt='d', cmap='Blues',\n",
        "            xticklabels=class_labels, yticklabels=class_labels)\n",
        "plt.title('Confusion Matrix')\n",
        "plt.ylabel('Kelas Aktual')\n",
        "plt.xlabel('Kelas Prediksi')\n",
        "plt.savefig('confusion_matrix.png')\n",
        "plt.close()\n",
        "print(\"Confusion Matrix disimpan sebagai 'confusion_matrix.png'\")\n",
        "\n",
        "# Grafik Akurasi dan Loss\n",
        "acc = history.history['accuracy']\n",
        "val_acc = history.history['val_accuracy']\n",
        "loss = history.history['loss']\n",
        "val_loss = history.history['val_loss']\n",
        "epochs_range = range(len(acc))\n",
        "\n",
        "plt.figure(figsize=(14, 7))\n",
        "plt.subplot(1, 2, 1)\n",
        "plt.plot(epochs_range, acc, label='Akurasi Training')\n",
        "plt.plot(epochs_range, val_acc, label='Akurasi Validasi')\n",
        "plt.legend(loc='lower right')\n",
        "plt.title('Akurasi Training dan Validasi')\n",
        "\n",
        "plt.subplot(1, 2, 2)\n",
        "plt.plot(epochs_range, loss, label='Loss Training')\n",
        "plt.plot(epochs_range, val_loss, label='Loss Validasi')\n",
        "plt.legend(loc='upper right')\n",
        "plt.title('Loss Training dan Validasi')\n",
        "plt.savefig('training_history.png')\n",
        "plt.close()\n",
        "print(\"Grafik riwayat pelatihan disimpan sebagai 'training_history.png'\")\n",
        "\n",
        "# Kurva AUC-ROC\n",
        "fpr = dict()\n",
        "tpr = dict()\n",
        "roc_auc = dict()\n",
        "for i in range(NUM_CLASSES):\n",
        "    # Handle cases where a class might not be present in y_true or y_pred\n",
        "    if np.sum(y_true == i) == 0 or np.sum(y_pred == i) == 0:\n",
        "        fpr[i] = [0.0, 1.0]\n",
        "        tpr[i] = [0.0, 1.0]\n",
        "        roc_auc[i] = np.nan # Use NaN or 0 if AUC can't be calculated\n",
        "    else:\n",
        "        fpr[i], tpr[i], _ = roc_curve(y_true == i, y_pred_probs[:, i])\n",
        "        roc_auc[i] = auc(fpr[i], tpr[i])\n",
        "\n",
        "\n",
        "plt.figure(figsize=(10, 8))\n",
        "colors = plt.cm.get_cmap('tab10', NUM_CLASSES).colors # Access the colors attribute\n",
        "for i, color in zip(range(NUM_CLASSES), colors):\n",
        "    # Only plot if AUC was calculable\n",
        "    if not np.isnan(roc_auc[i]):\n",
        "        plt.plot(fpr[i], tpr[i], color=color, lw=2,\n",
        "                 label=f'Kurva ROC kelas {class_labels[i]} (area = {roc_auc[i]:.2f})')\n",
        "    else:\n",
        "         plt.plot([], [], ' ', label=f'Kurva ROC kelas {class_labels[i]} (Tidak Dapat Dihitung)') # Add a placeholder in legend\n",
        "\n",
        "plt.plot([0, 1], [0, 1], 'k--')\n",
        "plt.xlim([0.0, 1.0])\n",
        "plt.ylim([0.0, 1.05])\n",
        "plt.xlabel('False Positive Rate')\n",
        "plt.ylabel('True Positive Rate')\n",
        "plt.title('Receiver Operating Characteristic (ROC)')\n",
        "plt.legend(loc=\"lower right\")\n",
        "plt.savefig('roc_curve.png')\n",
        "plt.close()\n",
        "print(\"Kurva AUC-ROC disimpan sebagai 'roc_curve.png'\")"
      ],
      "metadata": {
        "colab": {
          "base_uri": "https://localhost:8080/"
        },
        "id": "9TYc_3oOrJIy",
        "outputId": "0211725b-b339-4ccb-ebe1-e54b6b525d51"
      },
      "execution_count": 9,
      "outputs": [
        {
          "output_type": "stream",
          "name": "stdout",
          "text": [
            "Menyimpan hasil visualisasi...\n",
            "Confusion Matrix disimpan sebagai 'confusion_matrix.png'\n",
            "Grafik riwayat pelatihan disimpan sebagai 'training_history.png'\n"
          ]
        },
        {
          "output_type": "stream",
          "name": "stderr",
          "text": [
            "/tmp/ipython-input-9-3469088151.py:54: MatplotlibDeprecationWarning: The get_cmap function was deprecated in Matplotlib 3.7 and will be removed in 3.11. Use ``matplotlib.colormaps[name]`` or ``matplotlib.colormaps.get_cmap()`` or ``pyplot.get_cmap()`` instead.\n",
            "  colors = plt.cm.get_cmap('tab10', NUM_CLASSES).colors # Access the colors attribute\n"
          ]
        },
        {
          "output_type": "stream",
          "name": "stdout",
          "text": [
            "Kurva AUC-ROC disimpan sebagai 'roc_curve.png'\n"
          ]
        }
      ]
    },
    {
      "cell_type": "markdown",
      "source": [
        "CATATAN HASIL VISUALISASI DI DOWNLOAD"
      ],
      "metadata": {
        "id": "m7e5NB0XL3Jq"
      }
    }
  ]
}